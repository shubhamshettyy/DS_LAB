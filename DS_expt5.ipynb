{
  "cells": [
    {
      "cell_type": "markdown",
      "source": [
        "### Name: Shubham Shetty\n",
        "### UID: 2018130050\n",
        "### Batch: B"
      ],
      "metadata": {
        "id": "scMmd90GprLt"
      },
      "id": "scMmd90GprLt"
    },
    {
      "cell_type": "markdown",
      "source": [
        "### Objective:\n",
        "Based on competition available at Kaggle, https://www.kaggle.com/c/house-prices-advanced-regression-techniques/overview/description, revolving around predicting the house price through regression techniques. your objective is to build a regression model and measure the performance of the model"
      ],
      "metadata": {
        "id": "m0rCCkrPpolK"
      },
      "id": "m0rCCkrPpolK"
    },
    {
      "cell_type": "code",
      "source": [
        "from google.colab import drive\n",
        "drive.mount('/content/drive')"
      ],
      "metadata": {
        "colab": {
          "base_uri": "https://localhost:8080/"
        },
        "id": "RKWET8eD_5f4",
        "outputId": "503c0052-6999-492a-f513-118a71558379"
      },
      "id": "RKWET8eD_5f4",
      "execution_count": 1,
      "outputs": [
        {
          "output_type": "stream",
          "name": "stdout",
          "text": [
            "Mounted at /content/drive\n"
          ]
        }
      ]
    },
    {
      "cell_type": "code",
      "source": [
        "import os\n",
        "os.chdir('/content/drive/MyDrive/Data Science Tutorials/house-prices-advanced-regression-techniques')"
      ],
      "metadata": {
        "id": "05-r96MIZF0F"
      },
      "execution_count": 2,
      "outputs": [],
      "id": "05-r96MIZF0F"
    },
    {
      "cell_type": "code",
      "execution_count": 3,
      "id": "da89ca9c",
      "metadata": {
        "_cell_guid": "b1076dfc-b9ad-4769-8c92-a6c4dae69d19",
        "_uuid": "8f2839f25d086af736a60e9eeb907d3b93b6e0e5",
        "execution": {
          "iopub.execute_input": "2022-02-28T18:06:10.851650Z",
          "iopub.status.busy": "2022-02-28T18:06:10.850367Z",
          "iopub.status.idle": "2022-02-28T18:06:10.862340Z",
          "shell.execute_reply": "2022-02-28T18:06:10.862843Z",
          "shell.execute_reply.started": "2022-02-27T15:05:11.951378Z"
        },
        "papermill": {
          "duration": 0.083317,
          "end_time": "2022-02-28T18:06:10.863185",
          "exception": false,
          "start_time": "2022-02-28T18:06:10.779868",
          "status": "completed"
        },
        "tags": [],
        "colab": {
          "base_uri": "https://localhost:8080/"
        },
        "id": "da89ca9c",
        "outputId": "d2dfa149-d555-4c80-ab89-e8ce9d2847e7"
      },
      "outputs": [
        {
          "output_type": "stream",
          "name": "stdout",
          "text": [
            "data_description.txt   submission.csv\t     test.csv\n",
            "sample_submission.csv  submission_final.csv  train.csv\n"
          ]
        }
      ],
      "source": [
        "!ls"
      ]
    },
    {
      "cell_type": "code",
      "execution_count": 4,
      "id": "cabdf340",
      "metadata": {
        "execution": {
          "iopub.execute_input": "2022-02-28T18:06:11.005296Z",
          "iopub.status.busy": "2022-02-28T18:06:11.004565Z",
          "iopub.status.idle": "2022-02-28T18:06:12.530974Z",
          "shell.execute_reply": "2022-02-28T18:06:12.530340Z",
          "shell.execute_reply.started": "2022-02-27T15:05:11.972864Z"
        },
        "papermill": {
          "duration": 1.598762,
          "end_time": "2022-02-28T18:06:12.531183",
          "exception": false,
          "start_time": "2022-02-28T18:06:10.932421",
          "status": "completed"
        },
        "tags": [],
        "id": "cabdf340"
      },
      "outputs": [],
      "source": [
        "#Importing libraries\n",
        "\n",
        "import numpy as np\n",
        "import pandas as pd\n",
        "import seaborn as sns\n",
        "import matplotlib.pyplot as plt\n",
        "from sklearn.preprocessing import StandardScaler\n",
        "from sklearn.metrics import mean_squared_error, r2_score\n",
        "from sklearn.metrics import mean_absolute_error, mean_squared_error\n",
        "from sklearn.model_selection import train_test_split, cross_validate\n",
        "from sklearn.linear_model import Ridge, LinearRegression, SGDRegressor, Lasso, ElasticNet\n",
        "from xgboost import XGBRegressor\n",
        "\n",
        "# To Avoid unnecessary warnings\n",
        "import warnings\n",
        "warnings.filterwarnings('ignore')"
      ]
    },
    {
      "cell_type": "markdown",
      "id": "25550d91",
      "metadata": {
        "papermill": {
          "duration": 0.064037,
          "end_time": "2022-02-28T18:06:12.660975",
          "exception": false,
          "start_time": "2022-02-28T18:06:12.596938",
          "status": "completed"
        },
        "tags": [],
        "id": "25550d91"
      },
      "source": [
        "# Data preparation and preprocessing\n",
        "\n",
        "train.csv - the training set\n",
        "\n",
        "\n",
        "test.csv - the test set\n",
        "\n",
        "\n",
        "data_description.txt - full description of each column, originally prepared by Dean De Cock but lightly edited to match the column names used here\n",
        "\n",
        "\n",
        "sample_submission.csv - a benchmark submission from a linear regression on year and month of sale, lot square footage, and number of bedrooms"
      ]
    },
    {
      "cell_type": "code",
      "execution_count": 5,
      "id": "84d39664",
      "metadata": {
        "execution": {
          "iopub.execute_input": "2022-02-28T18:06:12.794107Z",
          "iopub.status.busy": "2022-02-28T18:06:12.793374Z",
          "iopub.status.idle": "2022-02-28T18:06:12.927465Z",
          "shell.execute_reply": "2022-02-28T18:06:12.927995Z",
          "shell.execute_reply.started": "2022-02-27T15:05:11.982216Z"
        },
        "papermill": {
          "duration": 0.203906,
          "end_time": "2022-02-28T18:06:12.928226",
          "exception": false,
          "start_time": "2022-02-28T18:06:12.724320",
          "status": "completed"
        },
        "tags": [],
        "colab": {
          "base_uri": "https://localhost:8080/",
          "height": 299
        },
        "id": "84d39664",
        "outputId": "cbeaacab-3e59-49f1-a5c8-3982cc51c884"
      },
      "outputs": [
        {
          "output_type": "execute_result",
          "data": {
            "text/plain": [
              "   Id  MSSubClass MSZoning  LotFrontage  LotArea Street Alley LotShape  \\\n",
              "0   1          60       RL         65.0     8450   Pave   NaN      Reg   \n",
              "1   2          20       RL         80.0     9600   Pave   NaN      Reg   \n",
              "2   3          60       RL         68.0    11250   Pave   NaN      IR1   \n",
              "3   4          70       RL         60.0     9550   Pave   NaN      IR1   \n",
              "4   5          60       RL         84.0    14260   Pave   NaN      IR1   \n",
              "\n",
              "  LandContour Utilities  ... PoolArea PoolQC Fence MiscFeature MiscVal MoSold  \\\n",
              "0         Lvl    AllPub  ...        0    NaN   NaN         NaN       0      2   \n",
              "1         Lvl    AllPub  ...        0    NaN   NaN         NaN       0      5   \n",
              "2         Lvl    AllPub  ...        0    NaN   NaN         NaN       0      9   \n",
              "3         Lvl    AllPub  ...        0    NaN   NaN         NaN       0      2   \n",
              "4         Lvl    AllPub  ...        0    NaN   NaN         NaN       0     12   \n",
              "\n",
              "  YrSold  SaleType  SaleCondition  SalePrice  \n",
              "0   2008        WD         Normal     208500  \n",
              "1   2007        WD         Normal     181500  \n",
              "2   2008        WD         Normal     223500  \n",
              "3   2006        WD        Abnorml     140000  \n",
              "4   2008        WD         Normal     250000  \n",
              "\n",
              "[5 rows x 81 columns]"
            ],
            "text/html": [
              "\n",
              "  <div id=\"df-bee08724-fb96-42cc-b27f-fd7c59e9082d\">\n",
              "    <div class=\"colab-df-container\">\n",
              "      <div>\n",
              "<style scoped>\n",
              "    .dataframe tbody tr th:only-of-type {\n",
              "        vertical-align: middle;\n",
              "    }\n",
              "\n",
              "    .dataframe tbody tr th {\n",
              "        vertical-align: top;\n",
              "    }\n",
              "\n",
              "    .dataframe thead th {\n",
              "        text-align: right;\n",
              "    }\n",
              "</style>\n",
              "<table border=\"1\" class=\"dataframe\">\n",
              "  <thead>\n",
              "    <tr style=\"text-align: right;\">\n",
              "      <th></th>\n",
              "      <th>Id</th>\n",
              "      <th>MSSubClass</th>\n",
              "      <th>MSZoning</th>\n",
              "      <th>LotFrontage</th>\n",
              "      <th>LotArea</th>\n",
              "      <th>Street</th>\n",
              "      <th>Alley</th>\n",
              "      <th>LotShape</th>\n",
              "      <th>LandContour</th>\n",
              "      <th>Utilities</th>\n",
              "      <th>...</th>\n",
              "      <th>PoolArea</th>\n",
              "      <th>PoolQC</th>\n",
              "      <th>Fence</th>\n",
              "      <th>MiscFeature</th>\n",
              "      <th>MiscVal</th>\n",
              "      <th>MoSold</th>\n",
              "      <th>YrSold</th>\n",
              "      <th>SaleType</th>\n",
              "      <th>SaleCondition</th>\n",
              "      <th>SalePrice</th>\n",
              "    </tr>\n",
              "  </thead>\n",
              "  <tbody>\n",
              "    <tr>\n",
              "      <th>0</th>\n",
              "      <td>1</td>\n",
              "      <td>60</td>\n",
              "      <td>RL</td>\n",
              "      <td>65.0</td>\n",
              "      <td>8450</td>\n",
              "      <td>Pave</td>\n",
              "      <td>NaN</td>\n",
              "      <td>Reg</td>\n",
              "      <td>Lvl</td>\n",
              "      <td>AllPub</td>\n",
              "      <td>...</td>\n",
              "      <td>0</td>\n",
              "      <td>NaN</td>\n",
              "      <td>NaN</td>\n",
              "      <td>NaN</td>\n",
              "      <td>0</td>\n",
              "      <td>2</td>\n",
              "      <td>2008</td>\n",
              "      <td>WD</td>\n",
              "      <td>Normal</td>\n",
              "      <td>208500</td>\n",
              "    </tr>\n",
              "    <tr>\n",
              "      <th>1</th>\n",
              "      <td>2</td>\n",
              "      <td>20</td>\n",
              "      <td>RL</td>\n",
              "      <td>80.0</td>\n",
              "      <td>9600</td>\n",
              "      <td>Pave</td>\n",
              "      <td>NaN</td>\n",
              "      <td>Reg</td>\n",
              "      <td>Lvl</td>\n",
              "      <td>AllPub</td>\n",
              "      <td>...</td>\n",
              "      <td>0</td>\n",
              "      <td>NaN</td>\n",
              "      <td>NaN</td>\n",
              "      <td>NaN</td>\n",
              "      <td>0</td>\n",
              "      <td>5</td>\n",
              "      <td>2007</td>\n",
              "      <td>WD</td>\n",
              "      <td>Normal</td>\n",
              "      <td>181500</td>\n",
              "    </tr>\n",
              "    <tr>\n",
              "      <th>2</th>\n",
              "      <td>3</td>\n",
              "      <td>60</td>\n",
              "      <td>RL</td>\n",
              "      <td>68.0</td>\n",
              "      <td>11250</td>\n",
              "      <td>Pave</td>\n",
              "      <td>NaN</td>\n",
              "      <td>IR1</td>\n",
              "      <td>Lvl</td>\n",
              "      <td>AllPub</td>\n",
              "      <td>...</td>\n",
              "      <td>0</td>\n",
              "      <td>NaN</td>\n",
              "      <td>NaN</td>\n",
              "      <td>NaN</td>\n",
              "      <td>0</td>\n",
              "      <td>9</td>\n",
              "      <td>2008</td>\n",
              "      <td>WD</td>\n",
              "      <td>Normal</td>\n",
              "      <td>223500</td>\n",
              "    </tr>\n",
              "    <tr>\n",
              "      <th>3</th>\n",
              "      <td>4</td>\n",
              "      <td>70</td>\n",
              "      <td>RL</td>\n",
              "      <td>60.0</td>\n",
              "      <td>9550</td>\n",
              "      <td>Pave</td>\n",
              "      <td>NaN</td>\n",
              "      <td>IR1</td>\n",
              "      <td>Lvl</td>\n",
              "      <td>AllPub</td>\n",
              "      <td>...</td>\n",
              "      <td>0</td>\n",
              "      <td>NaN</td>\n",
              "      <td>NaN</td>\n",
              "      <td>NaN</td>\n",
              "      <td>0</td>\n",
              "      <td>2</td>\n",
              "      <td>2006</td>\n",
              "      <td>WD</td>\n",
              "      <td>Abnorml</td>\n",
              "      <td>140000</td>\n",
              "    </tr>\n",
              "    <tr>\n",
              "      <th>4</th>\n",
              "      <td>5</td>\n",
              "      <td>60</td>\n",
              "      <td>RL</td>\n",
              "      <td>84.0</td>\n",
              "      <td>14260</td>\n",
              "      <td>Pave</td>\n",
              "      <td>NaN</td>\n",
              "      <td>IR1</td>\n",
              "      <td>Lvl</td>\n",
              "      <td>AllPub</td>\n",
              "      <td>...</td>\n",
              "      <td>0</td>\n",
              "      <td>NaN</td>\n",
              "      <td>NaN</td>\n",
              "      <td>NaN</td>\n",
              "      <td>0</td>\n",
              "      <td>12</td>\n",
              "      <td>2008</td>\n",
              "      <td>WD</td>\n",
              "      <td>Normal</td>\n",
              "      <td>250000</td>\n",
              "    </tr>\n",
              "  </tbody>\n",
              "</table>\n",
              "<p>5 rows × 81 columns</p>\n",
              "</div>\n",
              "      <button class=\"colab-df-convert\" onclick=\"convertToInteractive('df-bee08724-fb96-42cc-b27f-fd7c59e9082d')\"\n",
              "              title=\"Convert this dataframe to an interactive table.\"\n",
              "              style=\"display:none;\">\n",
              "        \n",
              "  <svg xmlns=\"http://www.w3.org/2000/svg\" height=\"24px\"viewBox=\"0 0 24 24\"\n",
              "       width=\"24px\">\n",
              "    <path d=\"M0 0h24v24H0V0z\" fill=\"none\"/>\n",
              "    <path d=\"M18.56 5.44l.94 2.06.94-2.06 2.06-.94-2.06-.94-.94-2.06-.94 2.06-2.06.94zm-11 1L8.5 8.5l.94-2.06 2.06-.94-2.06-.94L8.5 2.5l-.94 2.06-2.06.94zm10 10l.94 2.06.94-2.06 2.06-.94-2.06-.94-.94-2.06-.94 2.06-2.06.94z\"/><path d=\"M17.41 7.96l-1.37-1.37c-.4-.4-.92-.59-1.43-.59-.52 0-1.04.2-1.43.59L10.3 9.45l-7.72 7.72c-.78.78-.78 2.05 0 2.83L4 21.41c.39.39.9.59 1.41.59.51 0 1.02-.2 1.41-.59l7.78-7.78 2.81-2.81c.8-.78.8-2.07 0-2.86zM5.41 20L4 18.59l7.72-7.72 1.47 1.35L5.41 20z\"/>\n",
              "  </svg>\n",
              "      </button>\n",
              "      \n",
              "  <style>\n",
              "    .colab-df-container {\n",
              "      display:flex;\n",
              "      flex-wrap:wrap;\n",
              "      gap: 12px;\n",
              "    }\n",
              "\n",
              "    .colab-df-convert {\n",
              "      background-color: #E8F0FE;\n",
              "      border: none;\n",
              "      border-radius: 50%;\n",
              "      cursor: pointer;\n",
              "      display: none;\n",
              "      fill: #1967D2;\n",
              "      height: 32px;\n",
              "      padding: 0 0 0 0;\n",
              "      width: 32px;\n",
              "    }\n",
              "\n",
              "    .colab-df-convert:hover {\n",
              "      background-color: #E2EBFA;\n",
              "      box-shadow: 0px 1px 2px rgba(60, 64, 67, 0.3), 0px 1px 3px 1px rgba(60, 64, 67, 0.15);\n",
              "      fill: #174EA6;\n",
              "    }\n",
              "\n",
              "    [theme=dark] .colab-df-convert {\n",
              "      background-color: #3B4455;\n",
              "      fill: #D2E3FC;\n",
              "    }\n",
              "\n",
              "    [theme=dark] .colab-df-convert:hover {\n",
              "      background-color: #434B5C;\n",
              "      box-shadow: 0px 1px 3px 1px rgba(0, 0, 0, 0.15);\n",
              "      filter: drop-shadow(0px 1px 2px rgba(0, 0, 0, 0.3));\n",
              "      fill: #FFFFFF;\n",
              "    }\n",
              "  </style>\n",
              "\n",
              "      <script>\n",
              "        const buttonEl =\n",
              "          document.querySelector('#df-bee08724-fb96-42cc-b27f-fd7c59e9082d button.colab-df-convert');\n",
              "        buttonEl.style.display =\n",
              "          google.colab.kernel.accessAllowed ? 'block' : 'none';\n",
              "\n",
              "        async function convertToInteractive(key) {\n",
              "          const element = document.querySelector('#df-bee08724-fb96-42cc-b27f-fd7c59e9082d');\n",
              "          const dataTable =\n",
              "            await google.colab.kernel.invokeFunction('convertToInteractive',\n",
              "                                                     [key], {});\n",
              "          if (!dataTable) return;\n",
              "\n",
              "          const docLinkHtml = 'Like what you see? Visit the ' +\n",
              "            '<a target=\"_blank\" href=https://colab.research.google.com/notebooks/data_table.ipynb>data table notebook</a>'\n",
              "            + ' to learn more about interactive tables.';\n",
              "          element.innerHTML = '';\n",
              "          dataTable['output_type'] = 'display_data';\n",
              "          await google.colab.output.renderOutput(dataTable, element);\n",
              "          const docLink = document.createElement('div');\n",
              "          docLink.innerHTML = docLinkHtml;\n",
              "          element.appendChild(docLink);\n",
              "        }\n",
              "      </script>\n",
              "    </div>\n",
              "  </div>\n",
              "  "
            ]
          },
          "metadata": {},
          "execution_count": 5
        }
      ],
      "source": [
        "#Loading data\n",
        "\n",
        "test_data = pd.read_csv('test.csv')\n",
        "train_data = pd.read_csv('train.csv')\n",
        "train_data.head()"
      ]
    },
    {
      "cell_type": "code",
      "execution_count": 6,
      "id": "d567df47",
      "metadata": {
        "execution": {
          "iopub.execute_input": "2022-02-28T18:06:13.070285Z",
          "iopub.status.busy": "2022-02-28T18:06:13.069192Z",
          "iopub.status.idle": "2022-02-28T18:06:13.082979Z",
          "shell.execute_reply": "2022-02-28T18:06:13.083502Z",
          "shell.execute_reply.started": "2022-02-27T15:05:12.07292Z"
        },
        "papermill": {
          "duration": 0.082726,
          "end_time": "2022-02-28T18:06:13.083721",
          "exception": false,
          "start_time": "2022-02-28T18:06:13.000995",
          "status": "completed"
        },
        "tags": [],
        "id": "d567df47"
      },
      "outputs": [],
      "source": [
        "train_data = train_data.drop(['Id'] , axis =1)\n",
        "test_data = test_data.drop(['Id'] , axis =1)"
      ]
    },
    {
      "cell_type": "code",
      "execution_count": 7,
      "id": "e4801d54",
      "metadata": {
        "execution": {
          "iopub.execute_input": "2022-02-28T18:06:13.218767Z",
          "iopub.status.busy": "2022-02-28T18:06:13.217739Z",
          "iopub.status.idle": "2022-02-28T18:06:13.221794Z",
          "shell.execute_reply": "2022-02-28T18:06:13.222589Z",
          "shell.execute_reply.started": "2022-02-27T15:05:12.086106Z"
        },
        "papermill": {
          "duration": 0.07501,
          "end_time": "2022-02-28T18:06:13.222992",
          "exception": false,
          "start_time": "2022-02-28T18:06:13.147982",
          "status": "completed"
        },
        "tags": [],
        "colab": {
          "base_uri": "https://localhost:8080/"
        },
        "id": "e4801d54",
        "outputId": "93bd8b84-9e1a-4b07-956b-15b9b915dfb7"
      },
      "outputs": [
        {
          "output_type": "stream",
          "name": "stdout",
          "text": [
            "Number of rows: 1460\n",
            "Number of columns: 80\n"
          ]
        }
      ],
      "source": [
        "# Checking the number of rows and columns\n",
        "\n",
        "print('Number of rows:', train_data.shape[0])\n",
        "print('Number of columns:', train_data.shape[1])"
      ]
    },
    {
      "cell_type": "code",
      "execution_count": 8,
      "id": "b8f13da1",
      "metadata": {
        "execution": {
          "iopub.execute_input": "2022-02-28T18:06:13.370500Z",
          "iopub.status.busy": "2022-02-28T18:06:13.369318Z",
          "iopub.status.idle": "2022-02-28T18:06:13.394284Z",
          "shell.execute_reply": "2022-02-28T18:06:13.395063Z",
          "shell.execute_reply.started": "2022-02-27T15:05:12.098029Z"
        },
        "papermill": {
          "duration": 0.103747,
          "end_time": "2022-02-28T18:06:13.395302",
          "exception": false,
          "start_time": "2022-02-28T18:06:13.291555",
          "status": "completed"
        },
        "tags": [],
        "colab": {
          "base_uri": "https://localhost:8080/"
        },
        "id": "b8f13da1",
        "outputId": "d925f2a5-8054-494e-a9d4-f31812e9d388"
      },
      "outputs": [
        {
          "output_type": "stream",
          "name": "stdout",
          "text": [
            "<class 'pandas.core.frame.DataFrame'>\n",
            "RangeIndex: 1460 entries, 0 to 1459\n",
            "Data columns (total 80 columns):\n",
            " #   Column         Non-Null Count  Dtype  \n",
            "---  ------         --------------  -----  \n",
            " 0   MSSubClass     1460 non-null   int64  \n",
            " 1   MSZoning       1460 non-null   object \n",
            " 2   LotFrontage    1201 non-null   float64\n",
            " 3   LotArea        1460 non-null   int64  \n",
            " 4   Street         1460 non-null   object \n",
            " 5   Alley          91 non-null     object \n",
            " 6   LotShape       1460 non-null   object \n",
            " 7   LandContour    1460 non-null   object \n",
            " 8   Utilities      1460 non-null   object \n",
            " 9   LotConfig      1460 non-null   object \n",
            " 10  LandSlope      1460 non-null   object \n",
            " 11  Neighborhood   1460 non-null   object \n",
            " 12  Condition1     1460 non-null   object \n",
            " 13  Condition2     1460 non-null   object \n",
            " 14  BldgType       1460 non-null   object \n",
            " 15  HouseStyle     1460 non-null   object \n",
            " 16  OverallQual    1460 non-null   int64  \n",
            " 17  OverallCond    1460 non-null   int64  \n",
            " 18  YearBuilt      1460 non-null   int64  \n",
            " 19  YearRemodAdd   1460 non-null   int64  \n",
            " 20  RoofStyle      1460 non-null   object \n",
            " 21  RoofMatl       1460 non-null   object \n",
            " 22  Exterior1st    1460 non-null   object \n",
            " 23  Exterior2nd    1460 non-null   object \n",
            " 24  MasVnrType     1452 non-null   object \n",
            " 25  MasVnrArea     1452 non-null   float64\n",
            " 26  ExterQual      1460 non-null   object \n",
            " 27  ExterCond      1460 non-null   object \n",
            " 28  Foundation     1460 non-null   object \n",
            " 29  BsmtQual       1423 non-null   object \n",
            " 30  BsmtCond       1423 non-null   object \n",
            " 31  BsmtExposure   1422 non-null   object \n",
            " 32  BsmtFinType1   1423 non-null   object \n",
            " 33  BsmtFinSF1     1460 non-null   int64  \n",
            " 34  BsmtFinType2   1422 non-null   object \n",
            " 35  BsmtFinSF2     1460 non-null   int64  \n",
            " 36  BsmtUnfSF      1460 non-null   int64  \n",
            " 37  TotalBsmtSF    1460 non-null   int64  \n",
            " 38  Heating        1460 non-null   object \n",
            " 39  HeatingQC      1460 non-null   object \n",
            " 40  CentralAir     1460 non-null   object \n",
            " 41  Electrical     1459 non-null   object \n",
            " 42  1stFlrSF       1460 non-null   int64  \n",
            " 43  2ndFlrSF       1460 non-null   int64  \n",
            " 44  LowQualFinSF   1460 non-null   int64  \n",
            " 45  GrLivArea      1460 non-null   int64  \n",
            " 46  BsmtFullBath   1460 non-null   int64  \n",
            " 47  BsmtHalfBath   1460 non-null   int64  \n",
            " 48  FullBath       1460 non-null   int64  \n",
            " 49  HalfBath       1460 non-null   int64  \n",
            " 50  BedroomAbvGr   1460 non-null   int64  \n",
            " 51  KitchenAbvGr   1460 non-null   int64  \n",
            " 52  KitchenQual    1460 non-null   object \n",
            " 53  TotRmsAbvGrd   1460 non-null   int64  \n",
            " 54  Functional     1460 non-null   object \n",
            " 55  Fireplaces     1460 non-null   int64  \n",
            " 56  FireplaceQu    770 non-null    object \n",
            " 57  GarageType     1379 non-null   object \n",
            " 58  GarageYrBlt    1379 non-null   float64\n",
            " 59  GarageFinish   1379 non-null   object \n",
            " 60  GarageCars     1460 non-null   int64  \n",
            " 61  GarageArea     1460 non-null   int64  \n",
            " 62  GarageQual     1379 non-null   object \n",
            " 63  GarageCond     1379 non-null   object \n",
            " 64  PavedDrive     1460 non-null   object \n",
            " 65  WoodDeckSF     1460 non-null   int64  \n",
            " 66  OpenPorchSF    1460 non-null   int64  \n",
            " 67  EnclosedPorch  1460 non-null   int64  \n",
            " 68  3SsnPorch      1460 non-null   int64  \n",
            " 69  ScreenPorch    1460 non-null   int64  \n",
            " 70  PoolArea       1460 non-null   int64  \n",
            " 71  PoolQC         7 non-null      object \n",
            " 72  Fence          281 non-null    object \n",
            " 73  MiscFeature    54 non-null     object \n",
            " 74  MiscVal        1460 non-null   int64  \n",
            " 75  MoSold         1460 non-null   int64  \n",
            " 76  YrSold         1460 non-null   int64  \n",
            " 77  SaleType       1460 non-null   object \n",
            " 78  SaleCondition  1460 non-null   object \n",
            " 79  SalePrice      1460 non-null   int64  \n",
            "dtypes: float64(3), int64(34), object(43)\n",
            "memory usage: 912.6+ KB\n"
          ]
        }
      ],
      "source": [
        "train_data.info()"
      ]
    },
    {
      "cell_type": "code",
      "execution_count": 9,
      "id": "3f6f84e3",
      "metadata": {
        "execution": {
          "iopub.execute_input": "2022-02-28T18:06:13.539384Z",
          "iopub.status.busy": "2022-02-28T18:06:13.538367Z",
          "iopub.status.idle": "2022-02-28T18:06:13.540690Z",
          "shell.execute_reply": "2022-02-28T18:06:13.541171Z",
          "shell.execute_reply.started": "2022-02-27T15:05:12.136613Z"
        },
        "papermill": {
          "duration": 0.079379,
          "end_time": "2022-02-28T18:06:13.541379",
          "exception": false,
          "start_time": "2022-02-28T18:06:13.462000",
          "status": "completed"
        },
        "tags": [],
        "id": "3f6f84e3"
      },
      "outputs": [],
      "source": [
        "#Extracting numerical data\n",
        "train_data = train_data.select_dtypes(include=['int64', 'float64'])\n",
        "test_data =  test_data.select_dtypes(include=['int64', 'float64'])"
      ]
    },
    {
      "cell_type": "code",
      "execution_count": 10,
      "id": "fa342d85",
      "metadata": {
        "execution": {
          "iopub.execute_input": "2022-02-28T18:06:13.692741Z",
          "iopub.status.busy": "2022-02-28T18:06:13.684945Z",
          "iopub.status.idle": "2022-02-28T18:06:13.696185Z",
          "shell.execute_reply": "2022-02-28T18:06:13.696806Z",
          "shell.execute_reply.started": "2022-02-27T15:05:12.148281Z"
        },
        "papermill": {
          "duration": 0.090348,
          "end_time": "2022-02-28T18:06:13.697010",
          "exception": false,
          "start_time": "2022-02-28T18:06:13.606662",
          "status": "completed"
        },
        "tags": [],
        "colab": {
          "base_uri": "https://localhost:8080/",
          "height": 299
        },
        "id": "fa342d85",
        "outputId": "6adb2862-19d4-4fc2-927e-4ff3c8bc7228"
      },
      "outputs": [
        {
          "output_type": "execute_result",
          "data": {
            "text/plain": [
              "   MSSubClass  LotFrontage  LotArea  OverallQual  OverallCond  YearBuilt  \\\n",
              "0          60         65.0     8450            7            5       2003   \n",
              "1          20         80.0     9600            6            8       1976   \n",
              "2          60         68.0    11250            7            5       2001   \n",
              "3          70         60.0     9550            7            5       1915   \n",
              "4          60         84.0    14260            8            5       2000   \n",
              "\n",
              "   YearRemodAdd  MasVnrArea  BsmtFinSF1  BsmtFinSF2  ...  WoodDeckSF  \\\n",
              "0          2003       196.0         706           0  ...           0   \n",
              "1          1976         0.0         978           0  ...         298   \n",
              "2          2002       162.0         486           0  ...           0   \n",
              "3          1970         0.0         216           0  ...           0   \n",
              "4          2000       350.0         655           0  ...         192   \n",
              "\n",
              "   OpenPorchSF  EnclosedPorch  3SsnPorch  ScreenPorch  PoolArea  MiscVal  \\\n",
              "0           61              0          0            0         0        0   \n",
              "1            0              0          0            0         0        0   \n",
              "2           42              0          0            0         0        0   \n",
              "3           35            272          0            0         0        0   \n",
              "4           84              0          0            0         0        0   \n",
              "\n",
              "   MoSold  YrSold  SalePrice  \n",
              "0       2    2008     208500  \n",
              "1       5    2007     181500  \n",
              "2       9    2008     223500  \n",
              "3       2    2006     140000  \n",
              "4      12    2008     250000  \n",
              "\n",
              "[5 rows x 37 columns]"
            ],
            "text/html": [
              "\n",
              "  <div id=\"df-3e6879b4-0454-454b-a79f-7a4b08d2038f\">\n",
              "    <div class=\"colab-df-container\">\n",
              "      <div>\n",
              "<style scoped>\n",
              "    .dataframe tbody tr th:only-of-type {\n",
              "        vertical-align: middle;\n",
              "    }\n",
              "\n",
              "    .dataframe tbody tr th {\n",
              "        vertical-align: top;\n",
              "    }\n",
              "\n",
              "    .dataframe thead th {\n",
              "        text-align: right;\n",
              "    }\n",
              "</style>\n",
              "<table border=\"1\" class=\"dataframe\">\n",
              "  <thead>\n",
              "    <tr style=\"text-align: right;\">\n",
              "      <th></th>\n",
              "      <th>MSSubClass</th>\n",
              "      <th>LotFrontage</th>\n",
              "      <th>LotArea</th>\n",
              "      <th>OverallQual</th>\n",
              "      <th>OverallCond</th>\n",
              "      <th>YearBuilt</th>\n",
              "      <th>YearRemodAdd</th>\n",
              "      <th>MasVnrArea</th>\n",
              "      <th>BsmtFinSF1</th>\n",
              "      <th>BsmtFinSF2</th>\n",
              "      <th>...</th>\n",
              "      <th>WoodDeckSF</th>\n",
              "      <th>OpenPorchSF</th>\n",
              "      <th>EnclosedPorch</th>\n",
              "      <th>3SsnPorch</th>\n",
              "      <th>ScreenPorch</th>\n",
              "      <th>PoolArea</th>\n",
              "      <th>MiscVal</th>\n",
              "      <th>MoSold</th>\n",
              "      <th>YrSold</th>\n",
              "      <th>SalePrice</th>\n",
              "    </tr>\n",
              "  </thead>\n",
              "  <tbody>\n",
              "    <tr>\n",
              "      <th>0</th>\n",
              "      <td>60</td>\n",
              "      <td>65.0</td>\n",
              "      <td>8450</td>\n",
              "      <td>7</td>\n",
              "      <td>5</td>\n",
              "      <td>2003</td>\n",
              "      <td>2003</td>\n",
              "      <td>196.0</td>\n",
              "      <td>706</td>\n",
              "      <td>0</td>\n",
              "      <td>...</td>\n",
              "      <td>0</td>\n",
              "      <td>61</td>\n",
              "      <td>0</td>\n",
              "      <td>0</td>\n",
              "      <td>0</td>\n",
              "      <td>0</td>\n",
              "      <td>0</td>\n",
              "      <td>2</td>\n",
              "      <td>2008</td>\n",
              "      <td>208500</td>\n",
              "    </tr>\n",
              "    <tr>\n",
              "      <th>1</th>\n",
              "      <td>20</td>\n",
              "      <td>80.0</td>\n",
              "      <td>9600</td>\n",
              "      <td>6</td>\n",
              "      <td>8</td>\n",
              "      <td>1976</td>\n",
              "      <td>1976</td>\n",
              "      <td>0.0</td>\n",
              "      <td>978</td>\n",
              "      <td>0</td>\n",
              "      <td>...</td>\n",
              "      <td>298</td>\n",
              "      <td>0</td>\n",
              "      <td>0</td>\n",
              "      <td>0</td>\n",
              "      <td>0</td>\n",
              "      <td>0</td>\n",
              "      <td>0</td>\n",
              "      <td>5</td>\n",
              "      <td>2007</td>\n",
              "      <td>181500</td>\n",
              "    </tr>\n",
              "    <tr>\n",
              "      <th>2</th>\n",
              "      <td>60</td>\n",
              "      <td>68.0</td>\n",
              "      <td>11250</td>\n",
              "      <td>7</td>\n",
              "      <td>5</td>\n",
              "      <td>2001</td>\n",
              "      <td>2002</td>\n",
              "      <td>162.0</td>\n",
              "      <td>486</td>\n",
              "      <td>0</td>\n",
              "      <td>...</td>\n",
              "      <td>0</td>\n",
              "      <td>42</td>\n",
              "      <td>0</td>\n",
              "      <td>0</td>\n",
              "      <td>0</td>\n",
              "      <td>0</td>\n",
              "      <td>0</td>\n",
              "      <td>9</td>\n",
              "      <td>2008</td>\n",
              "      <td>223500</td>\n",
              "    </tr>\n",
              "    <tr>\n",
              "      <th>3</th>\n",
              "      <td>70</td>\n",
              "      <td>60.0</td>\n",
              "      <td>9550</td>\n",
              "      <td>7</td>\n",
              "      <td>5</td>\n",
              "      <td>1915</td>\n",
              "      <td>1970</td>\n",
              "      <td>0.0</td>\n",
              "      <td>216</td>\n",
              "      <td>0</td>\n",
              "      <td>...</td>\n",
              "      <td>0</td>\n",
              "      <td>35</td>\n",
              "      <td>272</td>\n",
              "      <td>0</td>\n",
              "      <td>0</td>\n",
              "      <td>0</td>\n",
              "      <td>0</td>\n",
              "      <td>2</td>\n",
              "      <td>2006</td>\n",
              "      <td>140000</td>\n",
              "    </tr>\n",
              "    <tr>\n",
              "      <th>4</th>\n",
              "      <td>60</td>\n",
              "      <td>84.0</td>\n",
              "      <td>14260</td>\n",
              "      <td>8</td>\n",
              "      <td>5</td>\n",
              "      <td>2000</td>\n",
              "      <td>2000</td>\n",
              "      <td>350.0</td>\n",
              "      <td>655</td>\n",
              "      <td>0</td>\n",
              "      <td>...</td>\n",
              "      <td>192</td>\n",
              "      <td>84</td>\n",
              "      <td>0</td>\n",
              "      <td>0</td>\n",
              "      <td>0</td>\n",
              "      <td>0</td>\n",
              "      <td>0</td>\n",
              "      <td>12</td>\n",
              "      <td>2008</td>\n",
              "      <td>250000</td>\n",
              "    </tr>\n",
              "  </tbody>\n",
              "</table>\n",
              "<p>5 rows × 37 columns</p>\n",
              "</div>\n",
              "      <button class=\"colab-df-convert\" onclick=\"convertToInteractive('df-3e6879b4-0454-454b-a79f-7a4b08d2038f')\"\n",
              "              title=\"Convert this dataframe to an interactive table.\"\n",
              "              style=\"display:none;\">\n",
              "        \n",
              "  <svg xmlns=\"http://www.w3.org/2000/svg\" height=\"24px\"viewBox=\"0 0 24 24\"\n",
              "       width=\"24px\">\n",
              "    <path d=\"M0 0h24v24H0V0z\" fill=\"none\"/>\n",
              "    <path d=\"M18.56 5.44l.94 2.06.94-2.06 2.06-.94-2.06-.94-.94-2.06-.94 2.06-2.06.94zm-11 1L8.5 8.5l.94-2.06 2.06-.94-2.06-.94L8.5 2.5l-.94 2.06-2.06.94zm10 10l.94 2.06.94-2.06 2.06-.94-2.06-.94-.94-2.06-.94 2.06-2.06.94z\"/><path d=\"M17.41 7.96l-1.37-1.37c-.4-.4-.92-.59-1.43-.59-.52 0-1.04.2-1.43.59L10.3 9.45l-7.72 7.72c-.78.78-.78 2.05 0 2.83L4 21.41c.39.39.9.59 1.41.59.51 0 1.02-.2 1.41-.59l7.78-7.78 2.81-2.81c.8-.78.8-2.07 0-2.86zM5.41 20L4 18.59l7.72-7.72 1.47 1.35L5.41 20z\"/>\n",
              "  </svg>\n",
              "      </button>\n",
              "      \n",
              "  <style>\n",
              "    .colab-df-container {\n",
              "      display:flex;\n",
              "      flex-wrap:wrap;\n",
              "      gap: 12px;\n",
              "    }\n",
              "\n",
              "    .colab-df-convert {\n",
              "      background-color: #E8F0FE;\n",
              "      border: none;\n",
              "      border-radius: 50%;\n",
              "      cursor: pointer;\n",
              "      display: none;\n",
              "      fill: #1967D2;\n",
              "      height: 32px;\n",
              "      padding: 0 0 0 0;\n",
              "      width: 32px;\n",
              "    }\n",
              "\n",
              "    .colab-df-convert:hover {\n",
              "      background-color: #E2EBFA;\n",
              "      box-shadow: 0px 1px 2px rgba(60, 64, 67, 0.3), 0px 1px 3px 1px rgba(60, 64, 67, 0.15);\n",
              "      fill: #174EA6;\n",
              "    }\n",
              "\n",
              "    [theme=dark] .colab-df-convert {\n",
              "      background-color: #3B4455;\n",
              "      fill: #D2E3FC;\n",
              "    }\n",
              "\n",
              "    [theme=dark] .colab-df-convert:hover {\n",
              "      background-color: #434B5C;\n",
              "      box-shadow: 0px 1px 3px 1px rgba(0, 0, 0, 0.15);\n",
              "      filter: drop-shadow(0px 1px 2px rgba(0, 0, 0, 0.3));\n",
              "      fill: #FFFFFF;\n",
              "    }\n",
              "  </style>\n",
              "\n",
              "      <script>\n",
              "        const buttonEl =\n",
              "          document.querySelector('#df-3e6879b4-0454-454b-a79f-7a4b08d2038f button.colab-df-convert');\n",
              "        buttonEl.style.display =\n",
              "          google.colab.kernel.accessAllowed ? 'block' : 'none';\n",
              "\n",
              "        async function convertToInteractive(key) {\n",
              "          const element = document.querySelector('#df-3e6879b4-0454-454b-a79f-7a4b08d2038f');\n",
              "          const dataTable =\n",
              "            await google.colab.kernel.invokeFunction('convertToInteractive',\n",
              "                                                     [key], {});\n",
              "          if (!dataTable) return;\n",
              "\n",
              "          const docLinkHtml = 'Like what you see? Visit the ' +\n",
              "            '<a target=\"_blank\" href=https://colab.research.google.com/notebooks/data_table.ipynb>data table notebook</a>'\n",
              "            + ' to learn more about interactive tables.';\n",
              "          element.innerHTML = '';\n",
              "          dataTable['output_type'] = 'display_data';\n",
              "          await google.colab.output.renderOutput(dataTable, element);\n",
              "          const docLink = document.createElement('div');\n",
              "          docLink.innerHTML = docLinkHtml;\n",
              "          element.appendChild(docLink);\n",
              "        }\n",
              "      </script>\n",
              "    </div>\n",
              "  </div>\n",
              "  "
            ]
          },
          "metadata": {},
          "execution_count": 10
        }
      ],
      "source": [
        "train_data.head()"
      ]
    },
    {
      "cell_type": "code",
      "execution_count": 12,
      "id": "75295589",
      "metadata": {
        "execution": {
          "iopub.execute_input": "2022-02-28T18:06:13.980896Z",
          "iopub.status.busy": "2022-02-28T18:06:13.980230Z",
          "iopub.status.idle": "2022-02-28T18:06:13.989058Z",
          "shell.execute_reply": "2022-02-28T18:06:13.988508Z",
          "shell.execute_reply.started": "2022-02-27T15:05:12.179297Z"
        },
        "papermill": {
          "duration": 0.078122,
          "end_time": "2022-02-28T18:06:13.989235",
          "exception": false,
          "start_time": "2022-02-28T18:06:13.911113",
          "status": "completed"
        },
        "tags": [],
        "colab": {
          "base_uri": "https://localhost:8080/"
        },
        "id": "75295589",
        "outputId": "903401ae-a4c5-44ee-e04c-a43604d09ed2"
      },
      "outputs": [
        {
          "output_type": "execute_result",
          "data": {
            "text/plain": [
              "MSSubClass         0\n",
              "LotFrontage      259\n",
              "LotArea            0\n",
              "OverallQual        0\n",
              "OverallCond        0\n",
              "YearBuilt          0\n",
              "YearRemodAdd       0\n",
              "MasVnrArea         8\n",
              "BsmtFinSF1         0\n",
              "BsmtFinSF2         0\n",
              "BsmtUnfSF          0\n",
              "TotalBsmtSF        0\n",
              "1stFlrSF           0\n",
              "2ndFlrSF           0\n",
              "LowQualFinSF       0\n",
              "GrLivArea          0\n",
              "BsmtFullBath       0\n",
              "BsmtHalfBath       0\n",
              "FullBath           0\n",
              "HalfBath           0\n",
              "BedroomAbvGr       0\n",
              "KitchenAbvGr       0\n",
              "TotRmsAbvGrd       0\n",
              "Fireplaces         0\n",
              "GarageYrBlt       81\n",
              "GarageCars         0\n",
              "GarageArea         0\n",
              "WoodDeckSF         0\n",
              "OpenPorchSF        0\n",
              "EnclosedPorch      0\n",
              "3SsnPorch          0\n",
              "ScreenPorch        0\n",
              "PoolArea           0\n",
              "MiscVal            0\n",
              "MoSold             0\n",
              "YrSold             0\n",
              "SalePrice          0\n",
              "dtype: int64"
            ]
          },
          "metadata": {},
          "execution_count": 12
        }
      ],
      "source": [
        "#Looking for missing data\n",
        "train_data.isnull().sum()"
      ]
    },
    {
      "cell_type": "code",
      "execution_count": 13,
      "id": "d2cb2f20",
      "metadata": {
        "execution": {
          "iopub.execute_input": "2022-02-28T18:06:14.129919Z",
          "iopub.status.busy": "2022-02-28T18:06:14.129094Z",
          "iopub.status.idle": "2022-02-28T18:06:14.137494Z",
          "shell.execute_reply": "2022-02-28T18:06:14.138004Z",
          "shell.execute_reply.started": "2022-02-27T15:05:12.207859Z"
        },
        "papermill": {
          "duration": 0.081529,
          "end_time": "2022-02-28T18:06:14.138215",
          "exception": false,
          "start_time": "2022-02-28T18:06:14.056686",
          "status": "completed"
        },
        "tags": [],
        "colab": {
          "base_uri": "https://localhost:8080/"
        },
        "id": "d2cb2f20",
        "outputId": "20ac2031-faf5-455d-9125-d1f3dd3799ba"
      },
      "outputs": [
        {
          "output_type": "execute_result",
          "data": {
            "text/plain": [
              "MSSubClass         0\n",
              "LotFrontage      227\n",
              "LotArea            0\n",
              "OverallQual        0\n",
              "OverallCond        0\n",
              "YearBuilt          0\n",
              "YearRemodAdd       0\n",
              "MasVnrArea        15\n",
              "BsmtFinSF1         1\n",
              "BsmtFinSF2         1\n",
              "BsmtUnfSF          1\n",
              "TotalBsmtSF        1\n",
              "1stFlrSF           0\n",
              "2ndFlrSF           0\n",
              "LowQualFinSF       0\n",
              "GrLivArea          0\n",
              "BsmtFullBath       2\n",
              "BsmtHalfBath       2\n",
              "FullBath           0\n",
              "HalfBath           0\n",
              "BedroomAbvGr       0\n",
              "KitchenAbvGr       0\n",
              "TotRmsAbvGrd       0\n",
              "Fireplaces         0\n",
              "GarageYrBlt       78\n",
              "GarageCars         1\n",
              "GarageArea         1\n",
              "WoodDeckSF         0\n",
              "OpenPorchSF        0\n",
              "EnclosedPorch      0\n",
              "3SsnPorch          0\n",
              "ScreenPorch        0\n",
              "PoolArea           0\n",
              "MiscVal            0\n",
              "MoSold             0\n",
              "YrSold             0\n",
              "dtype: int64"
            ]
          },
          "metadata": {},
          "execution_count": 13
        }
      ],
      "source": [
        "#Looking for missing data\n",
        "test_data.isnull().sum()"
      ]
    },
    {
      "cell_type": "markdown",
      "id": "5340889f",
      "metadata": {
        "papermill": {
          "duration": 0.066632,
          "end_time": "2022-02-28T18:06:14.272401",
          "exception": false,
          "start_time": "2022-02-28T18:06:14.205769",
          "status": "completed"
        },
        "tags": [],
        "id": "5340889f"
      },
      "source": [
        "### Replacing null values."
      ]
    },
    {
      "cell_type": "code",
      "execution_count": 14,
      "id": "a460eb4a",
      "metadata": {
        "execution": {
          "iopub.execute_input": "2022-02-28T18:06:14.410111Z",
          "iopub.status.busy": "2022-02-28T18:06:14.409455Z",
          "iopub.status.idle": "2022-02-28T18:06:14.428674Z",
          "shell.execute_reply": "2022-02-28T18:06:14.429171Z",
          "shell.execute_reply.started": "2022-02-27T15:05:12.219462Z"
        },
        "papermill": {
          "duration": 0.090187,
          "end_time": "2022-02-28T18:06:14.429382",
          "exception": false,
          "start_time": "2022-02-28T18:06:14.339195",
          "status": "completed"
        },
        "tags": [],
        "colab": {
          "base_uri": "https://localhost:8080/"
        },
        "id": "a460eb4a",
        "outputId": "6e2e2bd1-e4b4-41c2-9136-de3d3fbe444d"
      },
      "outputs": [
        {
          "output_type": "execute_result",
          "data": {
            "text/plain": [
              "MSSubClass       0\n",
              "LotFrontage      0\n",
              "LotArea          0\n",
              "OverallQual      0\n",
              "OverallCond      0\n",
              "YearBuilt        0\n",
              "YearRemodAdd     0\n",
              "MasVnrArea       0\n",
              "BsmtFinSF1       0\n",
              "BsmtFinSF2       0\n",
              "BsmtUnfSF        0\n",
              "TotalBsmtSF      0\n",
              "1stFlrSF         0\n",
              "2ndFlrSF         0\n",
              "LowQualFinSF     0\n",
              "GrLivArea        0\n",
              "BsmtFullBath     0\n",
              "BsmtHalfBath     0\n",
              "FullBath         0\n",
              "HalfBath         0\n",
              "BedroomAbvGr     0\n",
              "KitchenAbvGr     0\n",
              "TotRmsAbvGrd     0\n",
              "Fireplaces       0\n",
              "GarageYrBlt      0\n",
              "GarageCars       0\n",
              "GarageArea       0\n",
              "WoodDeckSF       0\n",
              "OpenPorchSF      0\n",
              "EnclosedPorch    0\n",
              "3SsnPorch        0\n",
              "ScreenPorch      0\n",
              "PoolArea         0\n",
              "MiscVal          0\n",
              "MoSold           0\n",
              "YrSold           0\n",
              "dtype: int64"
            ]
          },
          "metadata": {},
          "execution_count": 14
        }
      ],
      "source": [
        "#Filling null values with median\n",
        "test_data.fillna(test_data.median(), inplace = True)\n",
        "test_data.isnull().sum()"
      ]
    },
    {
      "cell_type": "code",
      "execution_count": 15,
      "id": "1bb3c447",
      "metadata": {
        "execution": {
          "iopub.execute_input": "2022-02-28T18:06:14.573742Z",
          "iopub.status.busy": "2022-02-28T18:06:14.568029Z",
          "iopub.status.idle": "2022-02-28T18:06:14.577265Z",
          "shell.execute_reply": "2022-02-28T18:06:14.576649Z",
          "shell.execute_reply.started": "2022-02-27T15:05:12.248105Z"
        },
        "papermill": {
          "duration": 0.080541,
          "end_time": "2022-02-28T18:06:14.577446",
          "exception": false,
          "start_time": "2022-02-28T18:06:14.496905",
          "status": "completed"
        },
        "tags": [],
        "id": "1bb3c447"
      },
      "outputs": [],
      "source": [
        "#Filling null values with median\n",
        "train_data['LotFrontage'] = train_data['LotFrontage'].fillna(train_data['LotFrontage'].median())\n",
        "train_data['GarageYrBlt'] = train_data['GarageYrBlt'].fillna(train_data['GarageYrBlt'].median())\n",
        "train_data['MasVnrArea'] = train_data['MasVnrArea'].fillna(train_data['MasVnrArea'].median())"
      ]
    },
    {
      "cell_type": "markdown",
      "id": "8dc8a2e0",
      "metadata": {
        "papermill": {
          "duration": 0.066927,
          "end_time": "2022-02-28T18:06:14.711920",
          "exception": false,
          "start_time": "2022-02-28T18:06:14.644993",
          "status": "completed"
        },
        "tags": [],
        "id": "8dc8a2e0"
      },
      "source": [
        "Both cells serve the same purpose - filling null values - but they are just written in different ways."
      ]
    },
    {
      "cell_type": "markdown",
      "id": "dbc15c9b",
      "metadata": {
        "papermill": {
          "duration": 0.067837,
          "end_time": "2022-02-28T18:06:14.849044",
          "exception": false,
          "start_time": "2022-02-28T18:06:14.781207",
          "status": "completed"
        },
        "tags": [],
        "id": "dbc15c9b"
      },
      "source": [
        ""
      ]
    },
    {
      "cell_type": "code",
      "execution_count": 16,
      "id": "84857c56",
      "metadata": {
        "execution": {
          "iopub.execute_input": "2022-02-28T18:06:14.992438Z",
          "iopub.status.busy": "2022-02-28T18:06:14.991766Z",
          "iopub.status.idle": "2022-02-28T18:06:15.004491Z",
          "shell.execute_reply": "2022-02-28T18:06:15.005090Z",
          "shell.execute_reply.started": "2022-02-27T15:05:12.259584Z"
        },
        "papermill": {
          "duration": 0.088308,
          "end_time": "2022-02-28T18:06:15.005305",
          "exception": false,
          "start_time": "2022-02-28T18:06:14.916997",
          "status": "completed"
        },
        "tags": [],
        "colab": {
          "base_uri": "https://localhost:8080/"
        },
        "id": "84857c56",
        "outputId": "e7185f92-09f5-409f-b70d-68d5c59ef5b3"
      },
      "outputs": [
        {
          "output_type": "execute_result",
          "data": {
            "text/plain": [
              "0"
            ]
          },
          "metadata": {},
          "execution_count": 16
        }
      ],
      "source": [
        "#Looking for duplicates\n",
        "sum(train_data.duplicated())"
      ]
    },
    {
      "cell_type": "code",
      "execution_count": 17,
      "id": "ebd67d5a",
      "metadata": {
        "execution": {
          "iopub.execute_input": "2022-02-28T18:06:15.147999Z",
          "iopub.status.busy": "2022-02-28T18:06:15.147238Z",
          "iopub.status.idle": "2022-02-28T18:06:15.149024Z",
          "shell.execute_reply": "2022-02-28T18:06:15.149629Z",
          "shell.execute_reply.started": "2022-02-27T15:05:12.284974Z"
        },
        "papermill": {
          "duration": 0.077094,
          "end_time": "2022-02-28T18:06:15.149832",
          "exception": false,
          "start_time": "2022-02-28T18:06:15.072738",
          "status": "completed"
        },
        "tags": [],
        "id": "ebd67d5a"
      },
      "outputs": [],
      "source": [
        "#Splitting\n",
        "x = train_data.iloc[:,:-1]\n",
        "y = train_data.iloc[:,-1]"
      ]
    },
    {
      "cell_type": "markdown",
      "id": "b4500b13",
      "metadata": {
        "papermill": {
          "duration": 0.0677,
          "end_time": "2022-02-28T18:06:15.285618",
          "exception": false,
          "start_time": "2022-02-28T18:06:15.217918",
          "status": "completed"
        },
        "tags": [],
        "id": "b4500b13"
      },
      "source": [
        "## Skewness"
      ]
    },
    {
      "cell_type": "code",
      "execution_count": 18,
      "id": "ac04195d",
      "metadata": {
        "execution": {
          "iopub.execute_input": "2022-02-28T18:06:15.425939Z",
          "iopub.status.busy": "2022-02-28T18:06:15.425128Z",
          "iopub.status.idle": "2022-02-28T18:06:15.435185Z",
          "shell.execute_reply": "2022-02-28T18:06:15.435826Z",
          "shell.execute_reply.started": "2022-02-27T15:05:12.295067Z"
        },
        "papermill": {
          "duration": 0.082369,
          "end_time": "2022-02-28T18:06:15.436069",
          "exception": false,
          "start_time": "2022-02-28T18:06:15.353700",
          "status": "completed"
        },
        "tags": [],
        "colab": {
          "base_uri": "https://localhost:8080/"
        },
        "id": "ac04195d",
        "outputId": "e1e444a0-580a-45bc-85d6-6fa18ea10bca"
      },
      "outputs": [
        {
          "output_type": "stream",
          "name": "stdout",
          "text": [
            "27\n"
          ]
        }
      ],
      "source": [
        "#Checking for skewness\n",
        "skewed_features = [col for col in train_data.columns if train_data[col].skew() > 0.5]\n",
        "print(len(skewed_features))"
      ]
    },
    {
      "cell_type": "code",
      "execution_count": 19,
      "id": "eee9945e",
      "metadata": {
        "execution": {
          "iopub.execute_input": "2022-02-28T18:06:15.577586Z",
          "iopub.status.busy": "2022-02-28T18:06:15.576836Z",
          "iopub.status.idle": "2022-02-28T18:06:15.598508Z",
          "shell.execute_reply": "2022-02-28T18:06:15.599100Z",
          "shell.execute_reply.started": "2022-02-27T15:05:12.320135Z"
        },
        "papermill": {
          "duration": 0.094711,
          "end_time": "2022-02-28T18:06:15.599332",
          "exception": false,
          "start_time": "2022-02-28T18:06:15.504621",
          "status": "completed"
        },
        "tags": [],
        "id": "eee9945e"
      },
      "outputs": [],
      "source": [
        "train_data[skewed_features] = train_data[skewed_features].apply(lambda x: np.log1p(x))"
      ]
    },
    {
      "cell_type": "markdown",
      "id": "67b10ea1",
      "metadata": {
        "papermill": {
          "duration": 0.068094,
          "end_time": "2022-02-28T18:06:15.736205",
          "exception": false,
          "start_time": "2022-02-28T18:06:15.668111",
          "status": "completed"
        },
        "tags": [],
        "id": "67b10ea1"
      },
      "source": [
        "Taking the log makes the data **less** skewed"
      ]
    },
    {
      "cell_type": "code",
      "execution_count": 20,
      "id": "84a52d22",
      "metadata": {
        "execution": {
          "iopub.execute_input": "2022-02-28T18:06:15.878327Z",
          "iopub.status.busy": "2022-02-28T18:06:15.877576Z",
          "iopub.status.idle": "2022-02-28T18:06:15.882095Z",
          "shell.execute_reply": "2022-02-28T18:06:15.882705Z",
          "shell.execute_reply.started": "2022-02-27T15:05:12.360191Z"
        },
        "papermill": {
          "duration": 0.07834,
          "end_time": "2022-02-28T18:06:15.882909",
          "exception": false,
          "start_time": "2022-02-28T18:06:15.804569",
          "status": "completed"
        },
        "tags": [],
        "id": "84a52d22"
      },
      "outputs": [],
      "source": [
        "skewed_features.remove('SalePrice')"
      ]
    },
    {
      "cell_type": "code",
      "execution_count": 21,
      "id": "929ef8a1",
      "metadata": {
        "execution": {
          "iopub.execute_input": "2022-02-28T18:06:16.027670Z",
          "iopub.status.busy": "2022-02-28T18:06:16.026868Z",
          "iopub.status.idle": "2022-02-28T18:06:16.045590Z",
          "shell.execute_reply": "2022-02-28T18:06:16.046303Z",
          "shell.execute_reply.started": "2022-02-27T15:05:12.367539Z"
        },
        "papermill": {
          "duration": 0.092995,
          "end_time": "2022-02-28T18:06:16.046530",
          "exception": false,
          "start_time": "2022-02-28T18:06:15.953535",
          "status": "completed"
        },
        "tags": [],
        "id": "929ef8a1"
      },
      "outputs": [],
      "source": [
        "test_data[skewed_features] = test_data[skewed_features].apply(lambda x: np.log1p(x))"
      ]
    },
    {
      "cell_type": "code",
      "execution_count": 22,
      "id": "1c8b0052",
      "metadata": {
        "execution": {
          "iopub.execute_input": "2022-02-28T18:06:16.189429Z",
          "iopub.status.busy": "2022-02-28T18:06:16.188616Z",
          "iopub.status.idle": "2022-02-28T18:06:16.193040Z",
          "shell.execute_reply": "2022-02-28T18:06:16.192504Z"
        },
        "papermill": {
          "duration": 0.077251,
          "end_time": "2022-02-28T18:06:16.193223",
          "exception": false,
          "start_time": "2022-02-28T18:06:16.115972",
          "status": "completed"
        },
        "tags": [],
        "id": "1c8b0052"
      },
      "outputs": [],
      "source": [
        "# from sklearn.model_selection import train_test_split\n",
        "# x_train, x_valid, y_train, y_valid = train_test_split(x, y, test_size = 0.2, random_state = 0)"
      ]
    },
    {
      "cell_type": "code",
      "execution_count": 23,
      "id": "388fc0aa",
      "metadata": {
        "execution": {
          "iopub.execute_input": "2022-02-28T18:06:16.336514Z",
          "iopub.status.busy": "2022-02-28T18:06:16.335702Z",
          "iopub.status.idle": "2022-02-28T18:06:16.342613Z",
          "shell.execute_reply": "2022-02-28T18:06:16.343205Z",
          "shell.execute_reply.started": "2022-02-27T15:05:12.399601Z"
        },
        "papermill": {
          "duration": 0.079932,
          "end_time": "2022-02-28T18:06:16.343420",
          "exception": false,
          "start_time": "2022-02-28T18:06:16.263488",
          "status": "completed"
        },
        "tags": [],
        "id": "388fc0aa"
      },
      "outputs": [],
      "source": [
        "#Splitting the dataset into the Training set and Test set\n",
        "x = train_data.drop('SalePrice', axis = 1)\n",
        "y = train_data['SalePrice']"
      ]
    },
    {
      "cell_type": "markdown",
      "id": "790c46ac",
      "metadata": {
        "papermill": {
          "duration": 0.068338,
          "end_time": "2022-02-28T18:06:16.480621",
          "exception": false,
          "start_time": "2022-02-28T18:06:16.412283",
          "status": "completed"
        },
        "tags": [],
        "id": "790c46ac"
      },
      "source": [
        "## Scaling"
      ]
    },
    {
      "cell_type": "code",
      "execution_count": 24,
      "id": "ac8af3e8",
      "metadata": {
        "execution": {
          "iopub.execute_input": "2022-02-28T18:06:16.627622Z",
          "iopub.status.busy": "2022-02-28T18:06:16.626923Z",
          "iopub.status.idle": "2022-02-28T18:06:16.633233Z",
          "shell.execute_reply": "2022-02-28T18:06:16.633705Z",
          "shell.execute_reply.started": "2022-02-27T15:05:12.411837Z"
        },
        "papermill": {
          "duration": 0.083966,
          "end_time": "2022-02-28T18:06:16.633906",
          "exception": false,
          "start_time": "2022-02-28T18:06:16.549940",
          "status": "completed"
        },
        "tags": [],
        "id": "ac8af3e8"
      },
      "outputs": [],
      "source": [
        "#Scaling\n",
        "from sklearn.preprocessing import StandardScaler\n",
        "sc = StandardScaler()\n",
        "x = sc.fit_transform(x)"
      ]
    },
    {
      "cell_type": "markdown",
      "id": "c50480bd",
      "metadata": {
        "papermill": {
          "duration": 0.068,
          "end_time": "2022-02-28T18:06:16.770235",
          "exception": false,
          "start_time": "2022-02-28T18:06:16.702235",
          "status": "completed"
        },
        "tags": [],
        "id": "c50480bd"
      },
      "source": [
        "Many machine learning algorithms as Linear Regression performs better when numerical input variables are scaled to a standard range."
      ]
    },
    {
      "cell_type": "code",
      "execution_count": 25,
      "id": "ec4e66d9",
      "metadata": {
        "execution": {
          "iopub.execute_input": "2022-02-28T18:06:16.912130Z",
          "iopub.status.busy": "2022-02-28T18:06:16.911455Z",
          "iopub.status.idle": "2022-02-28T18:06:16.920366Z",
          "shell.execute_reply": "2022-02-28T18:06:16.920899Z",
          "shell.execute_reply.started": "2022-02-27T15:05:12.432464Z"
        },
        "papermill": {
          "duration": 0.082549,
          "end_time": "2022-02-28T18:06:16.921112",
          "exception": false,
          "start_time": "2022-02-28T18:06:16.838563",
          "status": "completed"
        },
        "tags": [],
        "id": "ec4e66d9"
      },
      "outputs": [],
      "source": [
        "test_data = sc.transform(test_data)"
      ]
    },
    {
      "cell_type": "markdown",
      "id": "fb6c718e",
      "metadata": {
        "papermill": {
          "duration": 0.069663,
          "end_time": "2022-02-28T18:06:17.060364",
          "exception": false,
          "start_time": "2022-02-28T18:06:16.990701",
          "status": "completed"
        },
        "tags": [],
        "id": "fb6c718e"
      },
      "source": [
        "# Linear Regression "
      ]
    },
    {
      "cell_type": "code",
      "execution_count": 26,
      "id": "6ba9be3f",
      "metadata": {
        "execution": {
          "iopub.execute_input": "2022-02-28T18:06:17.209522Z",
          "iopub.status.busy": "2022-02-28T18:06:17.206272Z",
          "iopub.status.idle": "2022-02-28T18:06:17.300449Z",
          "shell.execute_reply": "2022-02-28T18:06:17.301395Z",
          "shell.execute_reply.started": "2022-02-27T15:05:12.446158Z"
        },
        "papermill": {
          "duration": 0.172408,
          "end_time": "2022-02-28T18:06:17.301711",
          "exception": false,
          "start_time": "2022-02-28T18:06:17.129303",
          "status": "completed"
        },
        "tags": [],
        "colab": {
          "base_uri": "https://localhost:8080/"
        },
        "id": "6ba9be3f",
        "outputId": "0418b9db-e057-4931-f03b-d1650d6ea15b"
      },
      "outputs": [
        {
          "output_type": "execute_result",
          "data": {
            "text/plain": [
              "{'fit_time': array([0.03323102, 0.00432801, 0.00430942, 0.00404406, 0.00416994,\n",
              "        0.0041008 , 0.00407672, 0.00400925, 0.00400567, 0.00404668]),\n",
              " 'score_time': array([0.00170922, 0.00168753, 0.00107622, 0.00108671, 0.00114083,\n",
              "        0.00106883, 0.00109673, 0.00108004, 0.00105619, 0.00145268]),\n",
              " 'test_neg_mean_squared_error': array([-0.01762168, -0.01329434, -0.01455703, -0.02857214, -0.02350528,\n",
              "        -0.01650958, -0.01522591, -0.01464452, -0.03396996, -0.01902501]),\n",
              " 'test_neg_root_mean_squared_error': array([-0.13274667, -0.11530108, -0.12065251, -0.16903296, -0.15331432,\n",
              "        -0.1284896 , -0.12339333, -0.12101456, -0.1843094 , -0.13793119])}"
            ]
          },
          "metadata": {},
          "execution_count": 26
        }
      ],
      "source": [
        "#cross validation\n",
        "lr = LinearRegression()\n",
        "cv_score = cross_validate(lr, x, y,\n",
        "                          cv = 10,\n",
        "                          scoring = ['neg_root_mean_squared_error', 'neg_mean_squared_error'])\n",
        "cv_score"
      ]
    },
    {
      "cell_type": "code",
      "execution_count": 27,
      "id": "24a9131d",
      "metadata": {
        "execution": {
          "iopub.execute_input": "2022-02-28T18:06:17.495480Z",
          "iopub.status.busy": "2022-02-28T18:06:17.494680Z",
          "iopub.status.idle": "2022-02-28T18:06:17.497604Z",
          "shell.execute_reply": "2022-02-28T18:06:17.498089Z",
          "shell.execute_reply.started": "2022-02-27T15:05:12.575023Z"
        },
        "papermill": {
          "duration": 0.078221,
          "end_time": "2022-02-28T18:06:17.498294",
          "exception": false,
          "start_time": "2022-02-28T18:06:17.420073",
          "status": "completed"
        },
        "tags": [],
        "colab": {
          "base_uri": "https://localhost:8080/"
        },
        "id": "24a9131d",
        "outputId": "e3e91485-64d3-4f3f-b798-18da70bd6a84"
      },
      "outputs": [
        {
          "output_type": "execute_result",
          "data": {
            "text/plain": [
              "-0.13861856201527376"
            ]
          },
          "metadata": {},
          "execution_count": 27
        }
      ],
      "source": [
        " cv_score['test_neg_root_mean_squared_error'].mean()"
      ]
    },
    {
      "cell_type": "code",
      "execution_count": 28,
      "id": "df66cc5d",
      "metadata": {
        "execution": {
          "iopub.execute_input": "2022-02-28T18:06:17.639670Z",
          "iopub.status.busy": "2022-02-28T18:06:17.638867Z",
          "iopub.status.idle": "2022-02-28T18:06:17.982345Z",
          "shell.execute_reply": "2022-02-28T18:06:17.982845Z",
          "shell.execute_reply.started": "2022-02-27T15:05:12.588984Z"
        },
        "papermill": {
          "duration": 0.415687,
          "end_time": "2022-02-28T18:06:17.983047",
          "exception": false,
          "start_time": "2022-02-28T18:06:17.567360",
          "status": "completed"
        },
        "tags": [],
        "colab": {
          "base_uri": "https://localhost:8080/",
          "height": 296
        },
        "id": "df66cc5d",
        "outputId": "cfd78d7c-b661-403f-e035-d7dc3c487f2e"
      },
      "outputs": [
        {
          "output_type": "execute_result",
          "data": {
            "text/plain": [
              "<matplotlib.axes._subplots.AxesSubplot at 0x7f79e3b1aed0>"
            ]
          },
          "metadata": {},
          "execution_count": 28
        },
        {
          "output_type": "display_data",
          "data": {
            "text/plain": [
              "<Figure size 432x288 with 1 Axes>"
            ],
            "image/png": "[encoded data removed]"
          },
          "metadata": {
            "needs_background": "light"
          }
        }
      ],
      "source": [
        "#Checking data skewness\n",
        "sns.distplot(y)"
      ]
    },
    {
      "cell_type": "markdown",
      "id": "638c5e99",
      "metadata": {
        "papermill": {
          "duration": 0.070911,
          "end_time": "2022-02-28T18:06:18.124499",
          "exception": false,
          "start_time": "2022-02-28T18:06:18.053588",
          "status": "completed"
        },
        "tags": [],
        "id": "638c5e99"
      },
      "source": [
        "Distribution shows positive skewness"
      ]
    },
    {
      "cell_type": "code",
      "execution_count": 29,
      "id": "d9c796ee",
      "metadata": {
        "execution": {
          "iopub.execute_input": "2022-02-28T18:06:18.269491Z",
          "iopub.status.busy": "2022-02-28T18:06:18.268743Z",
          "iopub.status.idle": "2022-02-28T18:06:18.286071Z",
          "shell.execute_reply": "2022-02-28T18:06:18.286997Z",
          "shell.execute_reply.started": "2022-02-27T15:05:12.961Z"
        },
        "papermill": {
          "duration": 0.092299,
          "end_time": "2022-02-28T18:06:18.287331",
          "exception": false,
          "start_time": "2022-02-28T18:06:18.195032",
          "status": "completed"
        },
        "tags": [],
        "colab": {
          "base_uri": "https://localhost:8080/"
        },
        "id": "d9c796ee",
        "outputId": "0835ad24-0dd0-4c32-b8dc-81697d8b2295"
      },
      "outputs": [
        {
          "output_type": "execute_result",
          "data": {
            "text/plain": [
              "LinearRegression()"
            ]
          },
          "metadata": {},
          "execution_count": 29
        }
      ],
      "source": [
        "from sklearn.linear_model import LinearRegression\n",
        "model = LinearRegression()\n",
        "model.fit(x, y)"
      ]
    },
    {
      "cell_type": "code",
      "execution_count": 30,
      "id": "5f84356c",
      "metadata": {
        "execution": {
          "iopub.execute_input": "2022-02-28T18:06:18.490470Z",
          "iopub.status.busy": "2022-02-28T18:06:18.483823Z",
          "iopub.status.idle": "2022-02-28T18:06:18.496455Z",
          "shell.execute_reply": "2022-02-28T18:06:18.497294Z",
          "shell.execute_reply.started": "2022-02-27T15:05:12.988706Z"
        },
        "papermill": {
          "duration": 0.089389,
          "end_time": "2022-02-28T18:06:18.497628",
          "exception": false,
          "start_time": "2022-02-28T18:06:18.408239",
          "status": "completed"
        },
        "tags": [],
        "colab": {
          "base_uri": "https://localhost:8080/"
        },
        "id": "5f84356c",
        "outputId": "c21769f5-7653-496d-8057-d96611336b29"
      },
      "outputs": [
        {
          "output_type": "execute_result",
          "data": {
            "text/plain": [
              "0.8860406993795062"
            ]
          },
          "metadata": {},
          "execution_count": 30
        }
      ],
      "source": [
        "model.score(x, y)"
      ]
    },
    {
      "cell_type": "code",
      "execution_count": 31,
      "id": "95a9d369",
      "metadata": {
        "execution": {
          "iopub.execute_input": "2022-02-28T18:06:18.696325Z",
          "iopub.status.busy": "2022-02-28T18:06:18.695113Z",
          "iopub.status.idle": "2022-02-28T18:06:18.704267Z",
          "shell.execute_reply": "2022-02-28T18:06:18.705242Z",
          "shell.execute_reply.started": "2022-02-27T15:05:13.025165Z"
        },
        "papermill": {
          "duration": 0.086763,
          "end_time": "2022-02-28T18:06:18.705574",
          "exception": false,
          "start_time": "2022-02-28T18:06:18.618811",
          "status": "completed"
        },
        "tags": [],
        "colab": {
          "base_uri": "https://localhost:8080/"
        },
        "id": "95a9d369",
        "outputId": "b7b94b8c-3d7f-4801-e55c-d98a17f4c83c"
      },
      "outputs": [
        {
          "output_type": "execute_result",
          "data": {
            "text/plain": [
              "array([12.26354905, 12.17866885, 12.32404922, ..., 12.28162312,\n",
              "       11.77022057, 11.8889255 ])"
            ]
          },
          "metadata": {},
          "execution_count": 31
        }
      ],
      "source": [
        "y_pred = model.predict(x)\n",
        "y_pred"
      ]
    },
    {
      "cell_type": "code",
      "execution_count": 32,
      "id": "b0aec367",
      "metadata": {
        "execution": {
          "iopub.execute_input": "2022-02-28T18:06:18.906268Z",
          "iopub.status.busy": "2022-02-28T18:06:18.905571Z",
          "iopub.status.idle": "2022-02-28T18:06:18.908920Z",
          "shell.execute_reply": "2022-02-28T18:06:18.909458Z",
          "shell.execute_reply.started": "2022-02-27T15:05:13.047207Z"
        },
        "papermill": {
          "duration": 0.081716,
          "end_time": "2022-02-28T18:06:18.909659",
          "exception": false,
          "start_time": "2022-02-28T18:06:18.827943",
          "status": "completed"
        },
        "tags": [],
        "colab": {
          "base_uri": "https://localhost:8080/"
        },
        "id": "b0aec367",
        "outputId": "d0754fcc-c713-49cb-d955-92298f7f8755"
      },
      "outputs": [
        {
          "output_type": "execute_result",
          "data": {
            "text/plain": [
              "0.8860406993795062"
            ]
          },
          "metadata": {},
          "execution_count": 32
        }
      ],
      "source": [
        "r2_score(y, y_pred)"
      ]
    },
    {
      "cell_type": "code",
      "execution_count": 33,
      "id": "071c3789",
      "metadata": {
        "execution": {
          "iopub.execute_input": "2022-02-28T18:06:19.057944Z",
          "iopub.status.busy": "2022-02-28T18:06:19.057259Z",
          "iopub.status.idle": "2022-02-28T18:06:19.064379Z",
          "shell.execute_reply": "2022-02-28T18:06:19.063832Z",
          "shell.execute_reply.started": "2022-02-27T15:05:13.065351Z"
        },
        "papermill": {
          "duration": 0.083023,
          "end_time": "2022-02-28T18:06:19.064551",
          "exception": false,
          "start_time": "2022-02-28T18:06:18.981528",
          "status": "completed"
        },
        "tags": [],
        "colab": {
          "base_uri": "https://localhost:8080/"
        },
        "id": "071c3789",
        "outputId": "7d7e13cf-df75-4916-d093-71478382150d"
      },
      "outputs": [
        {
          "output_type": "execute_result",
          "data": {
            "text/plain": [
              "0.13479933233010669"
            ]
          },
          "metadata": {},
          "execution_count": 33
        }
      ],
      "source": [
        "mean_squared_error(y,y_pred, squared=False)"
      ]
    },
    {
      "cell_type": "code",
      "execution_count": 34,
      "id": "cf9c0824",
      "metadata": {
        "execution": {
          "iopub.execute_input": "2022-02-28T18:06:19.214311Z",
          "iopub.status.busy": "2022-02-28T18:06:19.213660Z",
          "iopub.status.idle": "2022-02-28T18:06:19.222654Z",
          "shell.execute_reply": "2022-02-28T18:06:19.223331Z",
          "shell.execute_reply.started": "2022-02-27T15:05:13.083556Z"
        },
        "papermill": {
          "duration": 0.085151,
          "end_time": "2022-02-28T18:06:19.223533",
          "exception": false,
          "start_time": "2022-02-28T18:06:19.138382",
          "status": "completed"
        },
        "tags": [],
        "id": "cf9c0824"
      },
      "outputs": [],
      "source": [
        "valid_pred = model.predict(x)"
      ]
    },
    {
      "cell_type": "code",
      "execution_count": 35,
      "id": "338a0020",
      "metadata": {
        "execution": {
          "iopub.execute_input": "2022-02-28T18:06:19.427170Z",
          "iopub.status.busy": "2022-02-28T18:06:19.423865Z",
          "iopub.status.idle": "2022-02-28T18:06:19.429596Z",
          "shell.execute_reply": "2022-02-28T18:06:19.430099Z",
          "shell.execute_reply.started": "2022-02-27T15:05:13.098357Z"
        },
        "papermill": {
          "duration": 0.082731,
          "end_time": "2022-02-28T18:06:19.430344",
          "exception": false,
          "start_time": "2022-02-28T18:06:19.347613",
          "status": "completed"
        },
        "tags": [],
        "colab": {
          "base_uri": "https://localhost:8080/"
        },
        "id": "338a0020",
        "outputId": "6052435f-422f-47dc-dd1d-998e60f8affb"
      },
      "outputs": [
        {
          "output_type": "execute_result",
          "data": {
            "text/plain": [
              "0.8860406993795062"
            ]
          },
          "metadata": {},
          "execution_count": 35
        }
      ],
      "source": [
        "r2_score(y,valid_pred)"
      ]
    },
    {
      "cell_type": "markdown",
      "id": "febd1c32",
      "metadata": {
        "papermill": {
          "duration": 0.074632,
          "end_time": "2022-02-28T18:06:20.707491",
          "exception": false,
          "start_time": "2022-02-28T18:06:20.632859",
          "status": "completed"
        },
        "tags": [],
        "id": "febd1c32"
      },
      "source": [
        "# Lasso before regularization"
      ]
    },
    {
      "cell_type": "code",
      "execution_count": 40,
      "id": "dfef0941",
      "metadata": {
        "execution": {
          "iopub.execute_input": "2022-02-28T18:06:20.865773Z",
          "iopub.status.busy": "2022-02-28T18:06:20.864931Z",
          "iopub.status.idle": "2022-02-28T18:06:20.931593Z",
          "shell.execute_reply": "2022-02-28T18:06:20.932554Z",
          "shell.execute_reply.started": "2022-02-27T15:05:13.322922Z"
        },
        "papermill": {
          "duration": 0.150264,
          "end_time": "2022-02-28T18:06:20.932888",
          "exception": false,
          "start_time": "2022-02-28T18:06:20.782624",
          "status": "completed"
        },
        "tags": [],
        "colab": {
          "base_uri": "https://localhost:8080/"
        },
        "id": "dfef0941",
        "outputId": "cd4123f1-3331-4acb-b657-bd78af3cc3b7"
      },
      "outputs": [
        {
          "output_type": "execute_result",
          "data": {
            "text/plain": [
              "{'fit_time': array([0.01030087, 0.00786161, 0.00843883, 0.00635195, 0.00768161,\n",
              "        0.00537181, 0.00497937, 0.00246143, 0.0045774 , 0.00308204]),\n",
              " 'score_time': array([0.0013926 , 0.00240755, 0.00234079, 0.00266814, 0.00120854,\n",
              "        0.00114655, 0.00118899, 0.00106978, 0.00142121, 0.0011797 ]),\n",
              " 'test_neg_mean_squared_error': array([-0.14341533, -0.15630501, -0.18018288, -0.18129443, -0.20644308,\n",
              "        -0.12964349, -0.15215326, -0.14038881, -0.14419366, -0.16252923]),\n",
              " 'test_neg_root_mean_squared_error': array([-0.37870216, -0.39535428, -0.42447954, -0.42578684, -0.45436008,\n",
              "        -0.3600604 , -0.39006828, -0.37468495, -0.3797284 , -0.40314914])}"
            ]
          },
          "metadata": {},
          "execution_count": 40
        }
      ],
      "source": [
        "lr = Lasso()\n",
        "cv_score = cross_validate(lr, x, y,\n",
        "                          cv = 10,\n",
        "                          scoring = ['neg_root_mean_squared_error', 'neg_mean_squared_error'])\n",
        "cv_score"
      ]
    },
    {
      "cell_type": "code",
      "execution_count": 41,
      "id": "c3ef3f51",
      "metadata": {
        "execution": {
          "iopub.execute_input": "2022-02-28T18:06:21.142844Z",
          "iopub.status.busy": "2022-02-28T18:06:21.141864Z",
          "iopub.status.idle": "2022-02-28T18:06:21.145534Z",
          "shell.execute_reply": "2022-02-28T18:06:21.146029Z",
          "shell.execute_reply.started": "2022-02-27T15:05:13.44589Z"
        },
        "papermill": {
          "duration": 0.087572,
          "end_time": "2022-02-28T18:06:21.146243",
          "exception": false,
          "start_time": "2022-02-28T18:06:21.058671",
          "status": "completed"
        },
        "tags": [],
        "colab": {
          "base_uri": "https://localhost:8080/"
        },
        "id": "c3ef3f51",
        "outputId": "cc2ad3aa-c583-43b7-b8f6-b7270e433d75"
      },
      "outputs": [
        {
          "output_type": "execute_result",
          "data": {
            "text/plain": [
              "-0.3986374079901046"
            ]
          },
          "metadata": {},
          "execution_count": 41
        }
      ],
      "source": [
        " cv_score['test_neg_root_mean_squared_error'].mean()"
      ]
    },
    {
      "cell_type": "markdown",
      "id": "f63429c7",
      "metadata": {
        "papermill": {
          "duration": 0.07571,
          "end_time": "2022-02-28T18:06:21.297302",
          "exception": false,
          "start_time": "2022-02-28T18:06:21.221592",
          "status": "completed"
        },
        "tags": [],
        "id": "f63429c7"
      },
      "source": [
        "# Lasso after regularization"
      ]
    },
    {
      "cell_type": "code",
      "execution_count": 60,
      "id": "a1e809b8",
      "metadata": {
        "execution": {
          "iopub.execute_input": "2022-02-28T18:06:21.453469Z",
          "iopub.status.busy": "2022-02-28T18:06:21.452260Z",
          "iopub.status.idle": "2022-02-28T18:06:21.606607Z",
          "shell.execute_reply": "2022-02-28T18:06:21.607679Z",
          "shell.execute_reply.started": "2022-02-27T15:05:13.461379Z"
        },
        "papermill": {
          "duration": 0.234952,
          "end_time": "2022-02-28T18:06:21.607995",
          "exception": false,
          "start_time": "2022-02-28T18:06:21.373043",
          "status": "completed"
        },
        "tags": [],
        "colab": {
          "base_uri": "https://localhost:8080/"
        },
        "id": "a1e809b8",
        "outputId": "7e345176-9673-412e-9357-b387d7feb3fe"
      },
      "outputs": [
        {
          "output_type": "execute_result",
          "data": {
            "text/plain": [
              "{'fit_time': array([0.01461792, 0.00765109, 0.0081532 , 0.00739574, 0.00798798,\n",
              "        0.00782585, 0.0077641 , 0.00774288, 0.00690246, 0.0075593 ]),\n",
              " 'score_time': array([0.00134635, 0.00118494, 0.00121093, 0.00113201, 0.00113058,\n",
              "        0.00117493, 0.00112772, 0.001122  , 0.00110149, 0.00111747]),\n",
              " 'test_neg_mean_squared_error': array([-0.01760248, -0.01307937, -0.01458151, -0.02839255, -0.02360642,\n",
              "        -0.0162101 , -0.01526653, -0.0146631 , -0.03369376, -0.01863838]),\n",
              " 'test_neg_root_mean_squared_error': array([-0.13267433, -0.11436505, -0.12075392, -0.16850088, -0.1536438 ,\n",
              "        -0.1273189 , -0.12355779, -0.1210913 , -0.18355859, -0.13652246])}"
            ]
          },
          "metadata": {},
          "execution_count": 60
        }
      ],
      "source": [
        "#Lasso after regularization\n",
        "lr = Lasso(alpha = 0.001)\n",
        "cv_score = cross_validate(lr, x, y,\n",
        "                          cv = 10,\n",
        "                          scoring = ['neg_root_mean_squared_error', 'neg_mean_squared_error'])\n",
        "cv_score\n"
      ]
    },
    {
      "cell_type": "code",
      "execution_count": 61,
      "id": "9190a82a",
      "metadata": {
        "execution": {
          "iopub.execute_input": "2022-02-28T18:06:21.819272Z",
          "iopub.status.busy": "2022-02-28T18:06:21.818343Z",
          "iopub.status.idle": "2022-02-28T18:06:21.821901Z",
          "shell.execute_reply": "2022-02-28T18:06:21.822403Z",
          "shell.execute_reply.started": "2022-02-27T15:05:13.624678Z"
        },
        "papermill": {
          "duration": 0.088243,
          "end_time": "2022-02-28T18:06:21.822592",
          "exception": false,
          "start_time": "2022-02-28T18:06:21.734349",
          "status": "completed"
        },
        "tags": [],
        "colab": {
          "base_uri": "https://localhost:8080/"
        },
        "id": "9190a82a",
        "outputId": "df9b3ae5-2158-4fe5-9f63-a69ea091fbfb"
      },
      "outputs": [
        {
          "output_type": "execute_result",
          "data": {
            "text/plain": [
              "-0.13819870387313646"
            ]
          },
          "metadata": {},
          "execution_count": 61
        }
      ],
      "source": [
        " cv_score['test_neg_root_mean_squared_error'].mean()"
      ]
    },
    {
      "cell_type": "markdown",
      "id": "f1626741",
      "metadata": {
        "papermill": {
          "duration": 0.080537,
          "end_time": "2022-02-28T18:06:42.097052",
          "exception": false,
          "start_time": "2022-02-28T18:06:42.016515",
          "status": "completed"
        },
        "tags": [],
        "id": "f1626741"
      },
      "source": [
        "## Eventually, fitting the data to the chosen ML model 'lasso' to get final results"
      ]
    },
    {
      "cell_type": "code",
      "execution_count": 64,
      "id": "22fdd6ed",
      "metadata": {
        "execution": {
          "iopub.execute_input": "2022-02-28T18:06:42.289557Z",
          "iopub.status.busy": "2022-02-28T18:06:42.288801Z",
          "iopub.status.idle": "2022-02-28T18:06:42.306446Z",
          "shell.execute_reply": "2022-02-28T18:06:42.307548Z",
          "shell.execute_reply.started": "2022-02-27T15:05:31.76335Z"
        },
        "papermill": {
          "duration": 0.125357,
          "end_time": "2022-02-28T18:06:42.307885",
          "exception": false,
          "start_time": "2022-02-28T18:06:42.182528",
          "status": "completed"
        },
        "tags": [],
        "colab": {
          "base_uri": "https://localhost:8080/"
        },
        "id": "22fdd6ed",
        "outputId": "71023c94-7248-42ea-b2e7-15ab4817b5d8"
      },
      "outputs": [
        {
          "output_type": "execute_result",
          "data": {
            "text/plain": [
              "Lasso(alpha=0.001)"
            ]
          },
          "metadata": {},
          "execution_count": 64
        }
      ],
      "source": [
        "LR = Lasso(alpha = 0.001)\n",
        "LR.fit(x, y)"
      ]
    },
    {
      "cell_type": "code",
      "source": [
        "LR.score(x,y)"
      ],
      "metadata": {
        "colab": {
          "base_uri": "https://localhost:8080/"
        },
        "id": "TLk7MCvytYmC",
        "outputId": "a210ad5d-e4c4-41be-9e36-18f04084df97"
      },
      "id": "TLk7MCvytYmC",
      "execution_count": 68,
      "outputs": [
        {
          "output_type": "execute_result",
          "data": {
            "text/plain": [
              "0.8856588970809361"
            ]
          },
          "metadata": {},
          "execution_count": 68
        }
      ]
    },
    {
      "cell_type": "code",
      "execution_count": 55,
      "id": "45907070",
      "metadata": {
        "execution": {
          "iopub.execute_input": "2022-02-28T18:06:42.525998Z",
          "iopub.status.busy": "2022-02-28T18:06:42.525133Z",
          "iopub.status.idle": "2022-02-28T18:06:42.570424Z",
          "shell.execute_reply": "2022-02-28T18:06:42.569760Z",
          "shell.execute_reply.started": "2022-02-27T15:06:55.703968Z"
        },
        "papermill": {
          "duration": 0.13051,
          "end_time": "2022-02-28T18:06:42.570613",
          "exception": false,
          "start_time": "2022-02-28T18:06:42.440103",
          "status": "completed"
        },
        "tags": [],
        "colab": {
          "base_uri": "https://localhost:8080/"
        },
        "id": "45907070",
        "outputId": "31b8e9c7-6d14-4ea8-c2d6-4ef25035ee7b"
      },
      "outputs": [
        {
          "output_type": "execute_result",
          "data": {
            "text/plain": [
              "array([124425.98448813, 161387.91442933, 174320.79709768, ...,\n",
              "       170215.57103686, 136894.85339343, 227639.80968725])"
            ]
          },
          "metadata": {},
          "execution_count": 55
        }
      ],
      "source": [
        "y_pred = np.expm1(svr_linear_model.predict(test_data))\n",
        "y_pred"
      ]
    },
    {
      "cell_type": "code",
      "execution_count": 56,
      "id": "e27da743",
      "metadata": {
        "execution": {
          "iopub.execute_input": "2022-02-28T18:06:42.739585Z",
          "iopub.status.busy": "2022-02-28T18:06:42.738840Z",
          "iopub.status.idle": "2022-02-28T18:06:42.741950Z",
          "shell.execute_reply": "2022-02-28T18:06:42.742429Z",
          "shell.execute_reply.started": "2022-02-27T15:16:46.830988Z"
        },
        "papermill": {
          "duration": 0.090698,
          "end_time": "2022-02-28T18:06:42.742633",
          "exception": false,
          "start_time": "2022-02-28T18:06:42.651935",
          "status": "completed"
        },
        "tags": [],
        "id": "e27da743"
      },
      "outputs": [],
      "source": [
        "submission = pd.DataFrame({'Id': range(1461, 1461 + len(test_data)), 'SalePrice': y_pred})"
      ]
    },
    {
      "cell_type": "code",
      "execution_count": 57,
      "id": "48dc385c",
      "metadata": {
        "execution": {
          "iopub.execute_input": "2022-02-28T18:06:42.910102Z",
          "iopub.status.busy": "2022-02-28T18:06:42.907936Z",
          "iopub.status.idle": "2022-02-28T18:06:42.922346Z",
          "shell.execute_reply": "2022-02-28T18:06:42.921572Z",
          "shell.execute_reply.started": "2022-02-27T15:16:48.956106Z"
        },
        "papermill": {
          "duration": 0.098912,
          "end_time": "2022-02-28T18:06:42.922535",
          "exception": false,
          "start_time": "2022-02-28T18:06:42.823623",
          "status": "completed"
        },
        "tags": [],
        "id": "48dc385c"
      },
      "outputs": [],
      "source": [
        "submission.to_csv('submission_final.csv', index = False)"
      ]
    },
    {
      "cell_type": "markdown",
      "source": [
        "### Conclusion\n",
        "\n",
        "\n",
        "*   Learnt how different ways of cleaning can affect the accuracy of the models.\n",
        "*   Learnt why scaling, checking skewness of the data is very important for the model to learn the data properly.\n",
        "*   Had never tried the Lasso model before but got a chance to learn and implement it on this dataset.\n",
        "\n"
      ],
      "metadata": {
        "id": "LD6iiTIwtjhT"
      },
      "id": "LD6iiTIwtjhT"
    },
    {
      "cell_type": "code",
      "source": [
        ""
      ],
      "metadata": {
        "id": "xCrmhxM5uLFB"
      },
      "id": "xCrmhxM5uLFB",
      "execution_count": null,
      "outputs": []
    }
  ],
  "metadata": {
    "kernelspec": {
      "display_name": "Python 3",
      "language": "python",
      "name": "python3"
    },
    "language_info": {
      "codemirror_mode": {
        "name": "ipython",
        "version": 3
      },
      "file_extension": ".py",
      "mimetype": "text/x-python",
      "name": "python",
      "nbconvert_exporter": "python",
      "pygments_lexer": "ipython3",
      "version": "3.7.12"
    },
    "papermill": {
      "default_parameters": {},
      "duration": 44.049127,
      "end_time": "2022-02-28T18:06:44.120053",
      "environment_variables": {},
      "exception": null,
      "input_path": "__notebook__.ipynb",
      "output_path": "__notebook__.ipynb",
      "parameters": {},
      "start_time": "2022-02-28T18:06:00.070926",
      "version": "2.3.3"
    },
    "colab": {
      "name": "DS_expt5.ipynb",
      "provenance": []
    }
  },
  "nbformat": 4,
  "nbformat_minor": 5
}