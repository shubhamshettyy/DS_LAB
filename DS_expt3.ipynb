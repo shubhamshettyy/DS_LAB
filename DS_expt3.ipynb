{
  "nbformat": 4,
  "nbformat_minor": 0,
  "metadata": {
    "colab": {
      "name": "DS_expt3.ipynb",
      "provenance": []
    },
    "kernelspec": {
      "name": "python3",
      "display_name": "Python 3"
    },
    "language_info": {
      "name": "python"
    }
  },
  "cells": [
    {
      "cell_type": "markdown",
      "source": [
        "### Name: Shubham Shetty\n",
        "### UID: 2018130050\n",
        "### Batch: B"
      ],
      "metadata": {
        "id": "OHbwxuCxWg0I"
      }
    },
    {
      "cell_type": "markdown",
      "source": [
        "## Objective\n",
        "Data Classification"
      ],
      "metadata": {
        "id": "5GWCgq9tWjeQ"
      }
    },
    {
      "cell_type": "markdown",
      "source": [
        "**Objective**:\n",
        "\n",
        "(i) Apply Naive bayes classifier for given data see Naive_bayes_handout.zip file in edmodo.\n",
        "\n",
        "(ii) Apply and compare Linear Discriminating Analysis with Naive bayes classifiers w.r.t. error, specificity and sensitivity"
      ],
      "metadata": {
        "id": "br5gJMM5KDTa"
      }
    },
    {
      "cell_type": "code",
      "source": [
        "from google.colab import drive\n",
        "drive.mount('/content/drive')"
      ],
      "metadata": {
        "colab": {
          "base_uri": "https://localhost:8080/"
        },
        "id": "VewXxzMUZ_zp",
        "outputId": "cf2cdd55-b63e-4fe7-bd57-56a3354d3d3a"
      },
      "execution_count": null,
      "outputs": [
        {
          "output_type": "stream",
          "name": "stdout",
          "text": [
            "Mounted at /content/drive\n"
          ]
        }
      ]
    },
    {
      "cell_type": "code",
      "source": [
        "import numpy as np # linear algebra\n",
        "import pandas as pd # data processing, CSV file I/O (e.g. pd.read_csv)\n",
        "import bz2 # To open zipped files\n",
        "import re # regular expressions\n",
        "import os\n",
        "import gc\n",
        "\n",
        "import matplotlib.pyplot as plt\n",
        "import seaborn as sns\n",
        "\n",
        "from wordcloud import WordCloud, STOPWORDS\n",
        "\n",
        "from nltk.corpus import stopwords\n",
        "import nltk\n",
        "from nltk import pos_tag\n",
        "from nltk import sent_tokenize, word_tokenize\n",
        "from nltk.stem import WordNetLemmatizer\n",
        "from string import punctuation\n",
        "\n",
        "from sklearn.feature_extraction.text import CountVectorizer\n",
        "\n",
        "from sklearn.preprocessing import StandardScaler, MinMaxScaler\n",
        "\n",
        "from sklearn.naive_bayes import MultinomialNB\n",
        "\n",
        "from sklearn.discriminant_analysis import LinearDiscriminantAnalysis\n",
        "\n",
        "from sklearn.metrics import accuracy_score, confusion_matrix, roc_curve, roc_auc_score, auc, classification_report\n",
        "\n",
        "from prettytable import PrettyTable\n",
        "\n",
        "import warnings\n",
        "warnings.filterwarnings(\"ignore\")"
      ],
      "metadata": {
        "id": "ATfBnIDTWqfD"
      },
      "execution_count": null,
      "outputs": []
    },
    {
      "cell_type": "markdown",
      "source": [
        "# Load the Dataset"
      ],
      "metadata": {
        "id": "d52zMrCg914i"
      }
    },
    {
      "cell_type": "code",
      "source": [
        "train_file = bz2.BZ2File('/content/drive/MyDrive/Data Science Tutorials/train.ft.txt.bz2')\n",
        "test_file = bz2.BZ2File('/content/drive/MyDrive/Data Science Tutorials/test.ft.txt.bz2')"
      ],
      "metadata": {
        "id": "JwybAUFWWuGC"
      },
      "execution_count": null,
      "outputs": []
    },
    {
      "cell_type": "code",
      "source": [
        "train_file_lines = train_file.readlines()\n",
        "test_file_lines = test_file.readlines()"
      ],
      "metadata": {
        "id": "XK3PiFnyW5hw"
      },
      "execution_count": null,
      "outputs": []
    },
    {
      "cell_type": "code",
      "source": [
        "train_file_lines[0]"
      ],
      "metadata": {
        "colab": {
          "base_uri": "https://localhost:8080/"
        },
        "id": "ZaUgACKSXpFY",
        "outputId": "1ce7b991-a0eb-45b0-9515-9e56aa78b722"
      },
      "execution_count": null,
      "outputs": [
        {
          "output_type": "execute_result",
          "data": {
            "text/plain": [
              "b'__label__2 Stuning even for the non-gamer: This sound track was beautiful! It paints the senery in your mind so well I would recomend it even to people who hate vid. game music! I have played the game Chrono Cross but out of all of the games I have ever played it has the best music! It backs away from crude keyboarding and takes a fresher step with grate guitars and soulful orchestras. It would impress anyone who cares to listen! ^_^\\n'"
            ]
          },
          "metadata": {},
          "execution_count": 5
        }
      ]
    },
    {
      "cell_type": "code",
      "source": [
        "# clean the older variables\n",
        "del train_file, test_file\n",
        "gc.collect()"
      ],
      "metadata": {
        "colab": {
          "base_uri": "https://localhost:8080/"
        },
        "id": "PIiKjvYRW8yP",
        "outputId": "9208c31c-c98e-4cd6-d8ad-2db6177a894a"
      },
      "execution_count": null,
      "outputs": [
        {
          "output_type": "execute_result",
          "data": {
            "text/plain": [
              "100"
            ]
          },
          "metadata": {},
          "execution_count": 6
        }
      ]
    },
    {
      "cell_type": "markdown",
      "source": [
        "# Data Preprocessing and Visualization"
      ],
      "metadata": {
        "id": "y6dYwS9ZA7RX"
      }
    },
    {
      "cell_type": "markdown",
      "source": [
        "## Converting string from raw binary string to string that can be parsed."
      ],
      "metadata": {
        "id": "w82J9vJfXw66"
      }
    },
    {
      "cell_type": "code",
      "source": [
        "train_file_lines = [x.decode('utf-8') for x in train_file_lines]\n",
        "test_file_lines = [x.decode('utf-8') for x in test_file_lines]"
      ],
      "metadata": {
        "id": "4b1tkThWYBKs"
      },
      "execution_count": null,
      "outputs": []
    },
    {
      "cell_type": "code",
      "source": [
        "train_file_lines[0]"
      ],
      "metadata": {
        "colab": {
          "base_uri": "https://localhost:8080/",
          "height": 88
        },
        "id": "oYHqHbxBYCVK",
        "outputId": "6eec7589-c1d7-4e91-b8d2-177222f829be"
      },
      "execution_count": null,
      "outputs": [
        {
          "output_type": "execute_result",
          "data": {
            "text/plain": [
              "'__label__2 Stuning even for the non-gamer: This sound track was beautiful! It paints the senery in your mind so well I would recomend it even to people who hate vid. game music! I have played the game Chrono Cross but out of all of the games I have ever played it has the best music! It backs away from crude keyboarding and takes a fresher step with grate guitars and soulful orchestras. It would impress anyone who cares to listen! ^_^\\n'"
            ],
            "application/vnd.google.colaboratory.intrinsic+json": {
              "type": "string"
            }
          },
          "metadata": {},
          "execution_count": 8
        }
      ]
    },
    {
      "cell_type": "code",
      "source": [
        "print(type(train_file_lines), type(test_file_lines), \"\\n\")\n",
        "\n",
        "print(\"Train Data Volume:\", len(train_file_lines), \"\\n\")\n",
        "print(\"Test Data Volume:\", len(test_file_lines), \"\\n\\n\")"
      ],
      "metadata": {
        "colab": {
          "base_uri": "https://localhost:8080/"
        },
        "id": "ltPuRaJvYE-O",
        "outputId": "90edfb9d-bf77-4ab2-a5c5-d98c04d64f51"
      },
      "execution_count": null,
      "outputs": [
        {
          "output_type": "stream",
          "name": "stdout",
          "text": [
            "<class 'list'> <class 'list'> \n",
            "\n",
            "Train Data Volume: 3600000 \n",
            "\n",
            "Test Data Volume: 400000 \n",
            "\n",
            "\n"
          ]
        }
      ]
    },
    {
      "cell_type": "markdown",
      "source": [
        "## Extracting Labels from the data"
      ],
      "metadata": {
        "id": "jj_79qN4YQVS"
      }
    },
    {
      "cell_type": "markdown",
      "source": [
        "0 -> __label__1 -> 1/2 star rating\n",
        "\n",
        "1 -> __label__2 -> 4/5 star rating"
      ],
      "metadata": {
        "id": "OPwzo3vPYTpF"
      }
    },
    {
      "cell_type": "code",
      "source": [
        "train_labels = [0 if x.split(' ')[0] == '__label__1' else 1 for x in train_file_lines]\n",
        "test_labels = [0 if x.split(' ')[0] == '__label__1' else 1 for x in test_file_lines]"
      ],
      "metadata": {
        "id": "iSu95ImtYPze"
      },
      "execution_count": null,
      "outputs": []
    },
    {
      "cell_type": "code",
      "source": [
        "train_labels[0]"
      ],
      "metadata": {
        "colab": {
          "base_uri": "https://localhost:8080/"
        },
        "id": "CYfzHGNsYJxK",
        "outputId": "d86e8435-ad04-4e32-b7af-1576e8293f31"
      },
      "execution_count": null,
      "outputs": [
        {
          "output_type": "execute_result",
          "data": {
            "text/plain": [
              "1"
            ]
          },
          "metadata": {},
          "execution_count": 11
        }
      ]
    },
    {
      "cell_type": "markdown",
      "source": [
        "## Distribution of Labels in Train and Test Set"
      ],
      "metadata": {
        "id": "ceByaIF5Ziwj"
      }
    },
    {
      "cell_type": "code",
      "source": [
        "sns.countplot(train_labels)\n",
        "plt.title('Train Labels distribution')\n",
        "plt.show()"
      ],
      "metadata": {
        "colab": {
          "base_uri": "https://localhost:8080/",
          "height": 281
        },
        "id": "c1O5knNcYbZR",
        "outputId": "02b8f396-5b14-40da-cf97-5cef168ce36c"
      },
      "execution_count": null,
      "outputs": [
        {
          "output_type": "display_data",
          "data": {
            "text/plain": [
              "<Figure size 432x288 with 1 Axes>"
            ],
            "image/png": "[encoded data removed]"
          },
          "metadata": {
            "needs_background": "light"
          }
        }
      ]
    },
    {
      "cell_type": "code",
      "source": [
        "sns.countplot(test_labels)\n",
        "plt.title('Test Labels distribution')\n",
        "plt.show()"
      ],
      "metadata": {
        "colab": {
          "base_uri": "https://localhost:8080/",
          "height": 281
        },
        "id": "ISeHXyPEZrBn",
        "outputId": "d1e31244-2c15-4905-e334-7aa793c286dc"
      },
      "execution_count": null,
      "outputs": [
        {
          "output_type": "display_data",
          "data": {
            "text/plain": [
              "<Figure size 432x288 with 1 Axes>"
            ],
            "image/png": "[encoded data removed]"
          },
          "metadata": {
            "needs_background": "light"
          }
        }
      ]
    },
    {
      "cell_type": "markdown",
      "source": [
        "We can see that there are equal number of entries for both the classes in both train and test dataset."
      ],
      "metadata": {
        "id": "7QxS0qAQaIWc"
      }
    },
    {
      "cell_type": "markdown",
      "source": [
        "## Cleaning new line character and extracting review"
      ],
      "metadata": {
        "id": "cwMgkEYFaRZ4"
      }
    },
    {
      "cell_type": "code",
      "source": [
        "train_sentences = [x.split(' ', 1)[1][:-1] for x in train_file_lines]\n",
        "test_sentences = [x.split(' ', 1)[1][:-1] for x in test_file_lines]"
      ],
      "metadata": {
        "id": "7XSyPo49aCKy"
      },
      "execution_count": null,
      "outputs": []
    },
    {
      "cell_type": "code",
      "source": [
        "train_sentences[0]"
      ],
      "metadata": {
        "colab": {
          "base_uri": "https://localhost:8080/",
          "height": 70
        },
        "id": "yvlfbPqrZ6Je",
        "outputId": "0c64c78c-624a-4b4d-fd42-e5bb2dade337"
      },
      "execution_count": null,
      "outputs": [
        {
          "output_type": "execute_result",
          "data": {
            "text/plain": [
              "'Stuning even for the non-gamer: This sound track was beautiful! It paints the senery in your mind so well I would recomend it even to people who hate vid. game music! I have played the game Chrono Cross but out of all of the games I have ever played it has the best music! It backs away from crude keyboarding and takes a fresher step with grate guitars and soulful orchestras. It would impress anyone who cares to listen! ^_^'"
            ],
            "application/vnd.google.colaboratory.intrinsic+json": {
              "type": "string"
            }
          },
          "metadata": {},
          "execution_count": 15
        }
      ]
    },
    {
      "cell_type": "markdown",
      "source": [
        "## Number of Words in Reviews and its Distribution"
      ],
      "metadata": {
        "id": "mIes2deFbJKk"
      }
    },
    {
      "cell_type": "code",
      "source": [
        "# counting number of words in each review\n",
        "train_sentences_size = list(map(lambda x: len(x.split()), train_sentences))"
      ],
      "metadata": {
        "id": "5o08WgdzbWrf"
      },
      "execution_count": null,
      "outputs": []
    },
    {
      "cell_type": "code",
      "source": [
        "sns.distplot(train_sentences_size)\n",
        "plt.xlabel(\"Number of words in reviews\")\n",
        "plt.ylabel(\"Frequency\")\n",
        "plt.title(\"Word Frequency Distribution in Reviews\")\n",
        "plt.show()"
      ],
      "metadata": {
        "colab": {
          "base_uri": "https://localhost:8080/",
          "height": 295
        },
        "id": "WFIMSr17b7eZ",
        "outputId": "dd48c5ad-527c-48ff-cf33-db5b41ae9185"
      },
      "execution_count": null,
      "outputs": [
        {
          "output_type": "display_data",
          "data": {
            "text/plain": [
              "<Figure size 432x288 with 1 Axes>"
            ],
            "image/png": "[encoded data removed]"
          },
          "metadata": {
            "needs_background": "light"
          }
        }
      ]
    },
    {
      "cell_type": "markdown",
      "source": [
        "The above plot shows the distribution of  word frequency in reviews. We can see that the frequency is higher for lower count of number of words in reviews. "
      ],
      "metadata": {
        "id": "NQYexP7AuLDY"
      }
    },
    {
      "cell_type": "markdown",
      "source": [
        "## Cleaning URLs"
      ],
      "metadata": {
        "id": "PLGzDFS-c2VK"
      }
    },
    {
      "cell_type": "code",
      "source": [
        "for i in range(len(train_sentences)):\n",
        "    if 'www.' in train_sentences[i] or 'http:' in train_sentences[i] or 'https:' in train_sentences[i] or '.com' in train_sentences[i]:\n",
        "        train_sentences[i] = re.sub(r\"([^ ]+(?<=\\.[a-z]{3}))\", \"<url>\", train_sentences[i])"
      ],
      "metadata": {
        "id": "pcjS-56ycNsT"
      },
      "execution_count": null,
      "outputs": []
    },
    {
      "cell_type": "code",
      "source": [
        "for i in range(len(test_sentences)):\n",
        "    if 'www.' in test_sentences[i] or 'http:' in test_sentences[i] or 'https:' in test_sentences[i] or '.com' in test_sentences[i]:\n",
        "        test_sentences[i] = re.sub(r\"([^ ]+(?<=\\.[a-z]{3}))\", \"<url>\", test_sentences[i])"
      ],
      "metadata": {
        "id": "hyTo5yn7c67P"
      },
      "execution_count": null,
      "outputs": []
    },
    {
      "cell_type": "code",
      "source": [
        "list(filter(lambda x: '<url>' in x, train_sentences))[0]"
      ],
      "metadata": {
        "colab": {
          "base_uri": "https://localhost:8080/",
          "height": 105
        },
        "id": "TvAz3dqRc9XS",
        "outputId": "e840c680-6d71-4bbb-822b-3d34e84d62f3"
      },
      "execution_count": null,
      "outputs": [
        {
          "output_type": "execute_result",
          "data": {
            "text/plain": [
              "\"Bad Deal!!: I ordered this DVD and received a substitute I never received the DVD I ordered from Importcds (the Vendor). I contacted them and did not recieve any feedback. I can't rate a DVD I have never seen. I didn't bother to send it back because it would have cost me more that I orginally paid for it. In the future I will watch for the name of the person and/or persons I am buying from. I thought they were a good company. I understand a simple mistake but, to not get a response at all is not good businees sense. I spend hundreds of dollars a month on <url> building my DVD collection. I guess I will be more careful in the future.\""
            ],
            "application/vnd.google.colaboratory.intrinsic+json": {
              "type": "string"
            }
          },
          "metadata": {},
          "execution_count": 20
        }
      ]
    },
    {
      "cell_type": "markdown",
      "source": [
        "We can see here that the actual URL is substituted by <'url'>"
      ],
      "metadata": {
        "id": "xaROi_8CdAf6"
      }
    },
    {
      "cell_type": "code",
      "source": [
        "del train_file_lines, test_file_lines\n",
        "gc.collect()"
      ],
      "metadata": {
        "colab": {
          "base_uri": "https://localhost:8080/"
        },
        "id": "KggSUB-uc_Nq",
        "outputId": "c3beec9c-de59-45c8-ce47-b30e44ca8c05"
      },
      "execution_count": null,
      "outputs": [
        {
          "output_type": "execute_result",
          "data": {
            "text/plain": [
              "10371"
            ]
          },
          "metadata": {},
          "execution_count": 21
        }
      ]
    },
    {
      "cell_type": "markdown",
      "source": [
        "## Tokenization and Lemmatization"
      ],
      "metadata": {
        "id": "ms4ITbxLeHP-"
      }
    },
    {
      "cell_type": "code",
      "source": [
        "nltk.download('averaged_perceptron_tagger')"
      ],
      "metadata": {
        "colab": {
          "base_uri": "https://localhost:8080/"
        },
        "id": "jmG1SAwPdLj4",
        "outputId": "3238916f-35ed-48cc-888f-eb8a9c2101e6"
      },
      "execution_count": null,
      "outputs": [
        {
          "output_type": "stream",
          "name": "stdout",
          "text": [
            "[nltk_data] Downloading package averaged_perceptron_tagger to\n",
            "[nltk_data]     /root/nltk_data...\n",
            "[nltk_data]   Unzipping taggers/averaged_perceptron_tagger.zip.\n"
          ]
        },
        {
          "output_type": "execute_result",
          "data": {
            "text/plain": [
              "True"
            ]
          },
          "metadata": {},
          "execution_count": 22
        }
      ]
    },
    {
      "cell_type": "code",
      "source": [
        "wnl = WordNetLemmatizer()"
      ],
      "metadata": {
        "id": "4sU6dYZOePaZ"
      },
      "execution_count": null,
      "outputs": []
    },
    {
      "cell_type": "code",
      "source": [
        "# Converts Penn Treebank tags to WordNet.\n",
        "def penn2morphy(penntag):\n",
        "    morphy_tag = {'NN':'n', 'JJ':'a',\n",
        "                  'VB':'v', 'RB':'r'}\n",
        "    try:\n",
        "        return morphy_tag[penntag[:2]]\n",
        "    except:\n",
        "        return 'n' "
      ],
      "metadata": {
        "id": "l-48HasheTfE"
      },
      "execution_count": null,
      "outputs": []
    },
    {
      "cell_type": "code",
      "source": [
        "def lemmatize_sentence(text): \n",
        "    # Text input is string, returns lowercased strings.\n",
        "    return [wnl.lemmatize(word.lower(), pos=penn2morphy(tag)) \n",
        "            for word, tag in pos_tag(word_tokenize(text))]"
      ],
      "metadata": {
        "id": "NM9ljYrLfwpU"
      },
      "execution_count": null,
      "outputs": []
    },
    {
      "cell_type": "code",
      "source": [
        "nltk.download('wordnet')\n",
        "nltk.download('punkt')\n",
        "nltk.download('stopwords')"
      ],
      "metadata": {
        "colab": {
          "base_uri": "https://localhost:8080/"
        },
        "id": "TBr-XDjKgDcT",
        "outputId": "03f2d719-c9c3-470f-e8db-34fd8bc10c4f"
      },
      "execution_count": null,
      "outputs": [
        {
          "output_type": "stream",
          "name": "stdout",
          "text": [
            "[nltk_data] Downloading package wordnet to /root/nltk_data...\n",
            "[nltk_data]   Unzipping corpora/wordnet.zip.\n",
            "[nltk_data] Downloading package punkt to /root/nltk_data...\n",
            "[nltk_data]   Unzipping tokenizers/punkt.zip.\n",
            "[nltk_data] Downloading package stopwords to /root/nltk_data...\n",
            "[nltk_data]   Unzipping corpora/stopwords.zip.\n"
          ]
        },
        {
          "output_type": "execute_result",
          "data": {
            "text/plain": [
              "True"
            ]
          },
          "metadata": {},
          "execution_count": 26
        }
      ]
    },
    {
      "cell_type": "code",
      "source": [
        "lemmatize_sentence('I am reading a book')"
      ],
      "metadata": {
        "colab": {
          "base_uri": "https://localhost:8080/"
        },
        "id": "P-8nwIsrf2yE",
        "outputId": "e7af9eca-fe6c-438d-998a-7300e4373e2f"
      },
      "execution_count": null,
      "outputs": [
        {
          "output_type": "execute_result",
          "data": {
            "text/plain": [
              "['i', 'be', 'read', 'a', 'book']"
            ]
          },
          "metadata": {},
          "execution_count": 27
        }
      ]
    },
    {
      "cell_type": "markdown",
      "source": [
        "The above output shows the lemmatized format of the string."
      ],
      "metadata": {
        "id": "ToD_oNOSvA7G"
      }
    },
    {
      "cell_type": "markdown",
      "source": [
        "## Stopwords and Punctuation"
      ],
      "metadata": {
        "id": "yC4sroYOgQMx"
      }
    },
    {
      "cell_type": "markdown",
      "source": [
        "The stopword-json is given at the url given below and it has stopwrds in 50 languages\n",
        "https://github.com/6/stopwords-json"
      ],
      "metadata": {
        "id": "qMGeEK-CgU-j"
      }
    },
    {
      "cell_type": "code",
      "source": [
        "# Stopwords from stopwords-json\n",
        "stopwords_json = {\"en\":[\"a\",\"a's\",\"able\",\"about\",\"above\",\"according\",\"accordingly\",\"across\",\"actually\",\"after\",\"afterwards\",\"again\",\"against\",\"ain't\",\"all\",\"allow\",\"allows\",\"almost\",\"alone\",\"along\",\"already\",\"also\",\"although\",\"always\",\"am\",\"among\",\"amongst\",\"an\",\"and\",\"another\",\"any\",\"anybody\",\"anyhow\",\"anyone\",\"anything\",\"anyway\",\"anyways\",\"anywhere\",\"apart\",\"appear\",\"appreciate\",\"appropriate\",\"are\",\"aren't\",\"around\",\"as\",\"aside\",\"ask\",\"asking\",\"associated\",\"at\",\"available\",\"away\",\"awfully\",\"b\",\"be\",\"became\",\"because\",\"become\",\"becomes\",\"becoming\",\"been\",\"before\",\"beforehand\",\"behind\",\"being\",\"believe\",\"below\",\"beside\",\"besides\",\"best\",\"better\",\"between\",\"beyond\",\"both\",\"brief\",\"but\",\"by\",\"c\",\"c'mon\",\"c's\",\"came\",\"can\",\"can't\",\"cannot\",\"cant\",\"cause\",\"causes\",\"certain\",\"certainly\",\"changes\",\"clearly\",\"co\",\"com\",\"come\",\"comes\",\"concerning\",\"consequently\",\"consider\",\"considering\",\"contain\",\"containing\",\"contains\",\"corresponding\",\"could\",\"couldn't\",\"course\",\"currently\",\"d\",\"definitely\",\"described\",\"despite\",\"did\",\"didn't\",\"different\",\"do\",\"does\",\"doesn't\",\"doing\",\"don't\",\"done\",\"down\",\"downwards\",\"during\",\"e\",\"each\",\"edu\",\"eg\",\"eight\",\"either\",\"else\",\"elsewhere\",\"enough\",\"entirely\",\"especially\",\"et\",\"etc\",\"even\",\"ever\",\"every\",\"everybody\",\"everyone\",\"everything\",\"everywhere\",\"ex\",\"exactly\",\"example\",\"except\",\"f\",\"far\",\"few\",\"fifth\",\"first\",\"five\",\"followed\",\"following\",\"follows\",\"for\",\"former\",\"formerly\",\"forth\",\"four\",\"from\",\"further\",\"furthermore\",\"g\",\"get\",\"gets\",\"getting\",\"given\",\"gives\",\"go\",\"goes\",\"going\",\"gone\",\"got\",\"gotten\",\"greetings\",\"h\",\"had\",\"hadn't\",\"happens\",\"hardly\",\"has\",\"hasn't\",\"have\",\"haven't\",\"having\",\"he\",\"he's\",\"hello\",\"help\",\"hence\",\"her\",\"here\",\"here's\",\"hereafter\",\"hereby\",\"herein\",\"hereupon\",\"hers\",\"herself\",\"hi\",\"him\",\"himself\",\"his\",\"hither\",\"hopefully\",\"how\",\"howbeit\",\"however\",\"i\",\"i'd\",\"i'll\",\"i'm\",\"i've\",\"ie\",\"if\",\"ignored\",\"immediate\",\"in\",\"inasmuch\",\"inc\",\"indeed\",\"indicate\",\"indicated\",\"indicates\",\"inner\",\"insofar\",\"instead\",\"into\",\"inward\",\"is\",\"isn't\",\"it\",\"it'd\",\"it'll\",\"it's\",\"its\",\"itself\",\"j\",\"just\",\"k\",\"keep\",\"keeps\",\"kept\",\"know\",\"known\",\"knows\",\"l\",\"last\",\"lately\",\"later\",\"latter\",\"latterly\",\"least\",\"less\",\"lest\",\"let\",\"let's\",\"like\",\"liked\",\"likely\",\"little\",\"look\",\"looking\",\"looks\",\"ltd\",\"m\",\"mainly\",\"many\",\"may\",\"maybe\",\"me\",\"mean\",\"meanwhile\",\"merely\",\"might\",\"more\",\"moreover\",\"most\",\"mostly\",\"much\",\"must\",\"my\",\"myself\",\"n\",\"name\",\"namely\",\"nd\",\"near\",\"nearly\",\"necessary\",\"need\",\"needs\",\"neither\",\"never\",\"nevertheless\",\"new\",\"next\",\"nine\",\"no\",\"nobody\",\"non\",\"none\",\"noone\",\"nor\",\"normally\",\"not\",\"nothing\",\"novel\",\"now\",\"nowhere\",\"o\",\"obviously\",\"of\",\"off\",\"often\",\"oh\",\"ok\",\"okay\",\"old\",\"on\",\"once\",\"one\",\"ones\",\"only\",\"onto\",\"or\",\"other\",\"others\",\"otherwise\",\"ought\",\"our\",\"ours\",\"ourselves\",\"out\",\"outside\",\"over\",\"overall\",\"own\",\"p\",\"particular\",\"particularly\",\"per\",\"perhaps\",\"placed\",\"please\",\"plus\",\"possible\",\"presumably\",\"probably\",\"provides\",\"q\",\"que\",\"quite\",\"qv\",\"r\",\"rather\",\"rd\",\"re\",\"really\",\"reasonably\",\"regarding\",\"regardless\",\"regards\",\"relatively\",\"respectively\",\"right\",\"s\",\"said\",\"same\",\"saw\",\"say\",\"saying\",\"says\",\"second\",\"secondly\",\"see\",\"seeing\",\"seem\",\"seemed\",\"seeming\",\"seems\",\"seen\",\"self\",\"selves\",\"sensible\",\"sent\",\"serious\",\"seriously\",\"seven\",\"several\",\"shall\",\"she\",\"should\",\"shouldn't\",\"since\",\"six\",\"so\",\"some\",\"somebody\",\"somehow\",\"someone\",\"something\",\"sometime\",\"sometimes\",\"somewhat\",\"somewhere\",\"soon\",\"sorry\",\"specified\",\"specify\",\"specifying\",\"still\",\"sub\",\"such\",\"sup\",\"sure\",\"t\",\"t's\",\"take\",\"taken\",\"tell\",\"tends\",\"th\",\"than\",\"thank\",\"thanks\",\"thanx\",\"that\",\"that's\",\"thats\",\"the\",\"their\",\"theirs\",\"them\",\"themselves\",\"then\",\"thence\",\"there\",\"there's\",\"thereafter\",\"thereby\",\"therefore\",\"therein\",\"theres\",\"thereupon\",\"these\",\"they\",\"they'd\",\"they'll\",\"they're\",\"they've\",\"think\",\"third\",\"this\",\"thorough\",\"thoroughly\",\"those\",\"though\",\"three\",\"through\",\"throughout\",\"thru\",\"thus\",\"to\",\"together\",\"too\",\"took\",\"toward\",\"towards\",\"tried\",\"tries\",\"truly\",\"try\",\"trying\",\"twice\",\"two\",\"u\",\"un\",\"under\",\"unfortunately\",\"unless\",\"unlikely\",\"until\",\"unto\",\"up\",\"upon\",\"us\",\"use\",\"used\",\"useful\",\"uses\",\"using\",\"usually\",\"uucp\",\"v\",\"value\",\"various\",\"very\",\"via\",\"viz\",\"vs\",\"w\",\"want\",\"wants\",\"was\",\"wasn't\",\"way\",\"we\",\"we'd\",\"we'll\",\"we're\",\"we've\",\"welcome\",\"well\",\"went\",\"were\",\"weren't\",\"what\",\"what's\",\"whatever\",\"when\",\"whence\",\"whenever\",\"where\",\"where's\",\"whereafter\",\"whereas\",\"whereby\",\"wherein\",\"whereupon\",\"wherever\",\"whether\",\"which\",\"while\",\"whither\",\"who\",\"who's\",\"whoever\",\"whole\",\"whom\",\"whose\",\"why\",\"will\",\"willing\",\"wish\",\"with\",\"within\",\"without\",\"won't\",\"wonder\",\"would\",\"wouldn't\",\"x\",\"y\",\"yes\",\"yet\",\"you\",\"you'd\",\"you'll\",\"you're\",\"you've\",\"your\",\"yours\",\"yourself\",\"yourselves\",\"z\",\"zero\"]}\n",
        "stopwords_json_en = set(stopwords_json['en'])"
      ],
      "metadata": {
        "id": "poGRah_WgUrn"
      },
      "execution_count": null,
      "outputs": []
    },
    {
      "cell_type": "code",
      "source": [
        "# Stopwords from nltk\n",
        "stopwords_nltk_en = set(stopwords.words('english'))"
      ],
      "metadata": {
        "id": "Tob6Z6fFgUoH"
      },
      "execution_count": null,
      "outputs": []
    },
    {
      "cell_type": "code",
      "source": [
        "# Punctuations from string library of python\n",
        "stopwords_punct = set(punctuation)"
      ],
      "metadata": {
        "id": "8KMgewx_f7VF"
      },
      "execution_count": null,
      "outputs": []
    },
    {
      "cell_type": "code",
      "source": [
        "# Combining all stopwords and punctuations\n",
        "stoplist_combined = set.union(stopwords_nltk_en, stopwords_punct)"
      ],
      "metadata": {
        "id": "s8NetnNEg6xb"
      },
      "execution_count": null,
      "outputs": []
    },
    {
      "cell_type": "code",
      "source": [
        "def preprocess_text(text):\n",
        "    return [word for word in lemmatize_sentence(text) if word not in stoplist_combined and not word.isdigit()]"
      ],
      "metadata": {
        "id": "J04LLJEtg_pb"
      },
      "execution_count": null,
      "outputs": []
    },
    {
      "cell_type": "code",
      "source": [
        "train_sentences[0]"
      ],
      "metadata": {
        "colab": {
          "base_uri": "https://localhost:8080/",
          "height": 70
        },
        "id": "yBnXjSZDhOXY",
        "outputId": "2bdaa703-0427-4c9c-f66a-478d7ec842fa"
      },
      "execution_count": null,
      "outputs": [
        {
          "output_type": "execute_result",
          "data": {
            "text/plain": [
              "'Stuning even for the non-gamer: This sound track was beautiful! It paints the senery in your mind so well I would recomend it even to people who hate vid. game music! I have played the game Chrono Cross but out of all of the games I have ever played it has the best music! It backs away from crude keyboarding and takes a fresher step with grate guitars and soulful orchestras. It would impress anyone who cares to listen! ^_^'"
            ],
            "application/vnd.google.colaboratory.intrinsic+json": {
              "type": "string"
            }
          },
          "metadata": {},
          "execution_count": 33
        }
      ]
    },
    {
      "cell_type": "code",
      "source": [
        "preprocess_text(train_sentences[0])"
      ],
      "metadata": {
        "colab": {
          "base_uri": "https://localhost:8080/"
        },
        "id": "PQs7kgXDhRR5",
        "outputId": "ea08ebf6-402a-4fd0-ffe4-427aa5e5a758"
      },
      "execution_count": null,
      "outputs": [
        {
          "output_type": "execute_result",
          "data": {
            "text/plain": [
              "['stun',\n",
              " 'even',\n",
              " 'non-gamer',\n",
              " 'sound',\n",
              " 'track',\n",
              " 'beautiful',\n",
              " 'paint',\n",
              " 'senery',\n",
              " 'mind',\n",
              " 'well',\n",
              " 'would',\n",
              " 'recomend',\n",
              " 'even',\n",
              " 'people',\n",
              " 'hate',\n",
              " 'vid',\n",
              " 'game',\n",
              " 'music',\n",
              " 'play',\n",
              " 'game',\n",
              " 'chrono',\n",
              " 'cross',\n",
              " 'game',\n",
              " 'ever',\n",
              " 'play',\n",
              " 'best',\n",
              " 'music',\n",
              " 'back',\n",
              " 'away',\n",
              " 'crude',\n",
              " 'keyboarding',\n",
              " 'take',\n",
              " 'fresh',\n",
              " 'step',\n",
              " 'grate',\n",
              " 'guitar',\n",
              " 'soulful',\n",
              " 'orchestra',\n",
              " 'would',\n",
              " 'impress',\n",
              " 'anyone',\n",
              " 'care',\n",
              " 'listen',\n",
              " '^_^']"
            ]
          },
          "metadata": {},
          "execution_count": 34
        }
      ]
    },
    {
      "cell_type": "markdown",
      "source": [
        "The above output shows the text after removing stopwords and punctuations."
      ],
      "metadata": {
        "id": "fC66rAjjvREY"
      }
    },
    {
      "cell_type": "markdown",
      "source": [
        "## Vectorization"
      ],
      "metadata": {
        "id": "guKaLdA5oDqV"
      }
    },
    {
      "cell_type": "markdown",
      "source": [
        "The dataset corpus is converted into Document Term Matrix (DTM) using CountVectorizer."
      ],
      "metadata": {
        "id": "ZbpyZ6zQvlLT"
      }
    },
    {
      "cell_type": "code",
      "source": [
        "count_vect = CountVectorizer(analyzer=preprocess_text, max_features=6000)"
      ],
      "metadata": {
        "id": "x_rrTXowhacE"
      },
      "execution_count": null,
      "outputs": []
    },
    {
      "cell_type": "code",
      "source": [
        "train_set = count_vect.fit_transform(train_sentences[:10000])"
      ],
      "metadata": {
        "id": "7q_Lf817oHpf"
      },
      "execution_count": null,
      "outputs": []
    },
    {
      "cell_type": "code",
      "source": [
        "test_set = count_vect.transform(test_sentences[:1000])"
      ],
      "metadata": {
        "id": "j5zbAOD1baU7"
      },
      "execution_count": null,
      "outputs": []
    },
    {
      "cell_type": "markdown",
      "source": [
        "The document term matrix consists of 6000 columns and 10000 rows"
      ],
      "metadata": {
        "id": "s23XtqJ8v6nI"
      }
    },
    {
      "cell_type": "markdown",
      "source": [
        "# Model and Evaluation"
      ],
      "metadata": {
        "id": "7AhWSEhhg_7o"
      }
    },
    {
      "cell_type": "markdown",
      "source": [
        "# Naive Bayes"
      ],
      "metadata": {
        "id": "FAK2_eOdQ3eX"
      }
    },
    {
      "cell_type": "markdown",
      "source": [
        "## Build the Model"
      ],
      "metadata": {
        "id": "hJKPr_FCxQC_"
      }
    },
    {
      "cell_type": "code",
      "source": [
        "nb_model = MultinomialNB()\n",
        "nb_model.fit(train_set, train_labels[:10000])"
      ],
      "metadata": {
        "colab": {
          "base_uri": "https://localhost:8080/"
        },
        "id": "gdPGCyyApmO-",
        "outputId": "7266ba3c-5d18-4fa2-fe5a-b5773b77bdf3"
      },
      "execution_count": null,
      "outputs": [
        {
          "output_type": "execute_result",
          "data": {
            "text/plain": [
              "MultinomialNB()"
            ]
          },
          "metadata": {},
          "execution_count": 40
        }
      ]
    },
    {
      "cell_type": "markdown",
      "source": [
        "## Prediction"
      ],
      "metadata": {
        "id": "Q4zqXCt5xr1x"
      }
    },
    {
      "cell_type": "code",
      "source": [
        "pred_labels = nb_model.predict(test_set)"
      ],
      "metadata": {
        "id": "WulJxAgMpzAd"
      },
      "execution_count": null,
      "outputs": []
    },
    {
      "cell_type": "markdown",
      "source": [
        "## Accuracy"
      ],
      "metadata": {
        "id": "Eauhhm4ZxyAU"
      }
    },
    {
      "cell_type": "code",
      "source": [
        "accuracy_naive_bayes = accuracy_score(test_labels[:1000], pred_labels) * 100\n",
        "print('Accuracy (Naive Bayes): ', round(accuracy_naive_bayes, 4), \"%\")"
      ],
      "metadata": {
        "colab": {
          "base_uri": "https://localhost:8080/"
        },
        "id": "RPtpW_WWxw-8",
        "outputId": "8353c28a-ce82-49e2-800a-658b6c722d59"
      },
      "execution_count": null,
      "outputs": [
        {
          "output_type": "stream",
          "name": "stdout",
          "text": [
            "Accuracy (Naive Bayes):  82.3 %\n"
          ]
        }
      ]
    },
    {
      "cell_type": "code",
      "source": [
        "gc.collect()"
      ],
      "metadata": {
        "colab": {
          "base_uri": "https://localhost:8080/"
        },
        "id": "_K0MMC1tsD_G",
        "outputId": "06e4fe4e-9c68-448b-e8d6-1caaf15f288b"
      },
      "execution_count": null,
      "outputs": [
        {
          "output_type": "execute_result",
          "data": {
            "text/plain": [
              "319"
            ]
          },
          "metadata": {},
          "execution_count": 43
        }
      ]
    },
    {
      "cell_type": "markdown",
      "source": [
        "## Confusion Matrix"
      ],
      "metadata": {
        "id": "7ObPqXo9Prsh"
      }
    },
    {
      "cell_type": "code",
      "source": [
        "cm = confusion_matrix(test_labels[:1000], pred_labels)\n",
        "\n",
        "fig, ax = plt.subplots(figsize=(5, 5))\n",
        "ax.imshow(cm)\n",
        "ax.grid(False)\n",
        "ax.set_xlabel('Predicted outputs', fontsize=12, color='black')\n",
        "ax.set_ylabel('Actual outputs', fontsize=12, color='black')\n",
        "ax.xaxis.set(ticks=range(2))\n",
        "ax.yaxis.set(ticks=range(2))\n",
        "for i in range(2):\n",
        "    for j in range(2):\n",
        "        ax.text(j, i, cm[i, j], ha='center', va='center', color='white')\n",
        "plt.show()"
      ],
      "metadata": {
        "colab": {
          "base_uri": "https://localhost:8080/",
          "height": 337
        },
        "outputId": "0d662cd9-6617-410d-fe02-15a8ebc9d769",
        "id": "QfZYPKPsPrsh"
      },
      "execution_count": null,
      "outputs": [
        {
          "output_type": "display_data",
          "data": {
            "text/plain": [
              "<Figure size 360x360 with 1 Axes>"
            ],
            "image/png": "[encoded data removed]"
          },
          "metadata": {
            "needs_background": "light"
          }
        }
      ]
    },
    {
      "cell_type": "markdown",
      "source": [
        "# LDA"
      ],
      "metadata": {
        "id": "QLqTXTtzR1_A"
      }
    },
    {
      "cell_type": "markdown",
      "source": [
        "## Build the Model"
      ],
      "metadata": {
        "id": "PwV0liBsx3zt"
      }
    },
    {
      "cell_type": "code",
      "source": [
        "lda_model = LinearDiscriminantAnalysis()\n",
        "lda_model.fit(train_set.todense(), train_labels[:10000])"
      ],
      "metadata": {
        "colab": {
          "base_uri": "https://localhost:8080/"
        },
        "id": "vFUFSyOMp7Or",
        "outputId": "257f9b67-a522-479b-c25a-cc4e71abc01d"
      },
      "execution_count": null,
      "outputs": [
        {
          "output_type": "execute_result",
          "data": {
            "text/plain": [
              "LinearDiscriminantAnalysis()"
            ]
          },
          "metadata": {},
          "execution_count": 45
        }
      ]
    },
    {
      "cell_type": "markdown",
      "source": [
        "## Prediction"
      ],
      "metadata": {
        "id": "HgA7L6_mx8UG"
      }
    },
    {
      "cell_type": "code",
      "source": [
        "lda_pred_labels = lda_model.predict(test_set)"
      ],
      "metadata": {
        "id": "HuqKANzUqcEX"
      },
      "execution_count": null,
      "outputs": []
    },
    {
      "cell_type": "markdown",
      "source": [
        "## Accuracy"
      ],
      "metadata": {
        "id": "0eW7teqryC05"
      }
    },
    {
      "cell_type": "code",
      "source": [
        "accuracy_lda = accuracy_score(test_labels[:1000], lda_pred_labels ) * 100\n",
        "print('Accuracy (LDA): ', round(accuracy_lda, 4), \"%\")"
      ],
      "metadata": {
        "colab": {
          "base_uri": "https://localhost:8080/"
        },
        "id": "PavaHui8yCB3",
        "outputId": "2d67f9d9-cc2c-46cf-f8f7-c2b077162942"
      },
      "execution_count": null,
      "outputs": [
        {
          "output_type": "stream",
          "name": "stdout",
          "text": [
            "Accuracy (LDA):  73.0 %\n"
          ]
        }
      ]
    },
    {
      "cell_type": "markdown",
      "source": [
        "## Confusion Matrix"
      ],
      "metadata": {
        "id": "nC-dnDlnM9ag"
      }
    },
    {
      "cell_type": "code",
      "source": [
        "cm = confusion_matrix(test_labels[:1000], lda_pred_labels)\n",
        "\n",
        "fig, ax = plt.subplots(figsize=(5, 5))\n",
        "ax.imshow(cm)\n",
        "ax.grid(False)\n",
        "ax.set_xlabel('Predicted outputs', fontsize=12, color='black')\n",
        "ax.set_ylabel('Actual outputs', fontsize=12, color='black')\n",
        "ax.xaxis.set(ticks=range(2))\n",
        "ax.yaxis.set(ticks=range(2))\n",
        "for i in range(2):\n",
        "    for j in range(2):\n",
        "        ax.text(j, i, cm[i, j], ha='center', va='center', color='white')\n",
        "plt.show()"
      ],
      "metadata": {
        "colab": {
          "base_uri": "https://localhost:8080/"
        },
        "outputId": "6b018d17-6bd3-4862-8b03-6f9d8c457386",
        "id": "s92fjgICM9bI"
      },
      "execution_count": null,
      "outputs": [
        {
          "output_type": "display_data",
          "data": {
            "text/plain": [
              "<Figure size 360x360 with 1 Axes>"
            ],
            "image/png": "[encoded data removed]"
          },
          "metadata": {
            "needs_background": "light"
          }
        }
      ]
    },
    {
      "cell_type": "markdown",
      "source": [
        "# Inference"
      ],
      "metadata": {
        "id": "NEOSHifvX2hF"
      }
    },
    {
      "cell_type": "markdown",
      "source": [
        "\n",
        "\n",
        "*   The Naive Bayes model outperformed LDA with accuracy of 82.3 % on this dataset \n",
        "*   Dimensionality Reduction reduces the time and storage space required. It helps remove multi-collinearity which improves the interpretation of the parameters of the machine learning model. It becomes easier to visualize the data when reduced to very low dimensions such as 2D or 3D.\n",
        "*   The comparison of LDA and Naive Bayes based on various metrics was performed."
      ],
      "metadata": {
        "id": "484VhX5ccLwK"
      }
    }
  ]
}